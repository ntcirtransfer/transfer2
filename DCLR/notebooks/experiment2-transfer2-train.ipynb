{
 "cells": [
  {
   "cell_type": "markdown",
   "metadata": {},
   "source": [
    "# Experiment on Multilingual LM on Transfer-2 DCLR Subtask (Train set)\n",
    "\n",
    "- Input: Japanese queries (includes some English words)\n",
    "- Output: English documents"
   ]
  },
  {
   "cell_type": "markdown",
   "metadata": {},
   "source": [
    "## Previous Step\n",
    "\n",
    "- `preprocess-transfer2-train.ipynb`\n",
    "\n",
    "## Requirement\n",
    "\n",
    "- Java v21\n",
    "- Maven 3.6.3\n",
    "- Python 3.10+"
   ]
  },
  {
   "cell_type": "code",
   "execution_count": 1,
   "metadata": {
    "tags": []
   },
   "outputs": [],
   "source": [
    "import os\n",
    "# Change JAVA_HOME and MAVEN_HOME to fit your environment\n",
    "JAVA_HOME = '/path/to/your/java'\n",
    "os.environ['JAVA_HOME'] = JAVA_HOME\n",
    "MAVEN_HOME = '/path/to/your/maven'\n",
    "os.environ['MAVEN_HOME'] = MAVEN_HOME"
   ]
  },
  {
   "cell_type": "markdown",
   "metadata": {},
   "source": [
    "## Reference Spec\n",
    "\n",
    "- Azure VM: `Standard-NC4as-T4-v3`\n",
    "    - 4 cores, 28 GB RAM, 176 GB disk\n",
    "    - NVIDIA Tesla T4 (16 GB)\n",
    "    - $0.73/hr (when running)\n"
   ]
  },
  {
   "cell_type": "markdown",
   "metadata": {},
   "source": [
    "## GPU Check"
   ]
  },
  {
   "cell_type": "code",
   "execution_count": 2,
   "metadata": {
    "collapsed": true,
    "jupyter": {
     "outputs_hidden": true
    },
    "tags": []
   },
   "outputs": [
    {
     "name": "stdout",
     "output_type": "stream",
     "text": [
      "Thu Aug  1 11:33:54 2024       \n",
      "+---------------------------------------------------------------------------------------+\n",
      "| NVIDIA-SMI 535.171.04             Driver Version: 535.171.04   CUDA Version: 12.2     |\n",
      "|-----------------------------------------+----------------------+----------------------+\n",
      "| GPU  Name                 Persistence-M | Bus-Id        Disp.A | Volatile Uncorr. ECC |\n",
      "| Fan  Temp   Perf          Pwr:Usage/Cap |         Memory-Usage | GPU-Util  Compute M. |\n",
      "|                                         |                      |               MIG M. |\n",
      "|=========================================+======================+======================|\n",
      "|   0  Tesla T4                       On  | 00000001:00:00.0 Off |                  Off |\n",
      "| N/A   30C    P8               9W /  70W |      2MiB / 16384MiB |      0%      Default |\n",
      "|                                         |                      |                  N/A |\n",
      "+-----------------------------------------+----------------------+----------------------+\n",
      "                                                                                         \n",
      "+---------------------------------------------------------------------------------------+\n",
      "| Processes:                                                                            |\n",
      "|  GPU   GI   CI        PID   Type   Process name                            GPU Memory |\n",
      "|        ID   ID                                                             Usage      |\n",
      "|=======================================================================================|\n",
      "|  No running processes found                                                           |\n",
      "+---------------------------------------------------------------------------------------+\n"
     ]
    }
   ],
   "source": [
    "!nvidia-smi"
   ]
  },
  {
   "cell_type": "code",
   "execution_count": 3,
   "metadata": {
    "tags": []
   },
   "outputs": [
    {
     "name": "stdout",
     "output_type": "stream",
     "text": [
      "True\n",
      "1\n",
      "Tesla T4\n"
     ]
    }
   ],
   "source": [
    "import torch\n",
    "print(torch.cuda.is_available())\n",
    "print(torch.cuda.device_count())\n",
    "for i in range(torch.cuda.device_count()):\n",
    "    print(torch.cuda.get_device_name(i))"
   ]
  },
  {
   "cell_type": "markdown",
   "metadata": {},
   "source": [
    "## Path"
   ]
  },
  {
   "cell_type": "code",
   "execution_count": 2,
   "metadata": {
    "tags": []
   },
   "outputs": [],
   "source": [
    "import os\n",
    "# Set your ROOT folder\n",
    "os.environ['ROOT'] = '/path/to/your/transfer2/DCLR'\n",
    "os.environ['DATASET'] = os.getenv('ROOT') + '/datasets'\n",
    "os.environ['INDEX'] = os.getenv('ROOT') + '/indexes/ntcir18-transfer/train/pyserini'\n",
    "os.environ['RUN'] = os.getenv('ROOT') + '/runs/ntcir18-transfer/train'\n",
    "os.environ['VENDOR'] = os.getenv('ROOT') + '/vendors'\n",
    "os.environ['TC'] = os.getenv('ROOT') + '/testcollections/ntcir/NTCIR-1'"
   ]
  },
  {
   "cell_type": "markdown",
   "metadata": {},
   "source": [
    "## Install software"
   ]
  },
  {
   "cell_type": "markdown",
   "metadata": {},
   "source": [
    "### Lucene"
   ]
  },
  {
   "cell_type": "code",
   "execution_count": 11,
   "metadata": {},
   "outputs": [],
   "source": [
    "!mkdir -p $VENDOR"
   ]
  },
  {
   "cell_type": "code",
   "execution_count": 12,
   "metadata": {},
   "outputs": [
    {
     "name": "stdout",
     "output_type": "stream",
     "text": [
      "--2024-07-31 13:00:06--  https://dlcdn.apache.org/lucene/java/9.11.1/lucene-9.11.1.tgz\n",
      "Resolving dlcdn.apache.org (dlcdn.apache.org)... 151.101.2.132, 2a04:4e42::644\n",
      "Connecting to dlcdn.apache.org (dlcdn.apache.org)|151.101.2.132|:443... connected.\n",
      "HTTP request sent, awaiting response... 200 OK\n",
      "Length: 79610139 (76M) [application/x-gzip]\n",
      "Saving to: ‘/home/azureuser/cloudfiles/code/Users/joho.hideo.gb/transfer2/DCLR/vendors/lucene-9.11.1.tgz’\n",
      "\n",
      "/home/azureuser/clo 100%[===================>]  75.92M   291MB/s    in 0.3s    \n",
      "\n",
      "2024-07-31 13:00:15 (291 MB/s) - ‘/home/azureuser/cloudfiles/code/Users/joho.hideo.gb/transfer2/DCLR/vendors/lucene-9.11.1.tgz’ saved [79610139/79610139]\n",
      "\n"
     ]
    }
   ],
   "source": [
    "!wget -O $VENDOR/lucene-9.11.1.tgz \"https://dlcdn.apache.org/lucene/java/9.11.1/lucene-9.11.1.tgz\""
   ]
  },
  {
   "cell_type": "code",
   "execution_count": 13,
   "metadata": {
    "tags": []
   },
   "outputs": [],
   "source": [
    "!tar xfz $VENDOR/lucene-9.11.1.tgz -C $VENDOR"
   ]
  },
  {
   "cell_type": "code",
   "execution_count": 6,
   "metadata": {
    "tags": []
   },
   "outputs": [],
   "source": [
    "os.environ['LUCENE_HOME'] = os.getenv('VENDOR') + '/lucene-9.11.1'\n",
    "os.environ['CLASSPATH'] = os.getenv('LUCENE_HOME') + '/modules/*'"
   ]
  },
  {
   "cell_type": "markdown",
   "metadata": {},
   "source": [
    "### Anserini"
   ]
  },
  {
   "cell_type": "code",
   "execution_count": 28,
   "metadata": {},
   "outputs": [
    {
     "name": "stdout",
     "output_type": "stream",
     "text": [
      "Cloning into '/home/azureuser/cloudfiles/code/Users/joho.hideo.gb/transfer2/DCLR/vendors/anserini'...\n",
      "remote: Enumerating objects: 41275, done.\u001b[K\n",
      "remote: Counting objects: 100% (7806/7806), done.\u001b[K\n",
      "remote: Compressing objects: 100% (614/614), done.\u001b[K\n",
      "remote: Total 41275 (delta 7613), reused 7225 (delta 7188), pack-reused 33469\u001b[K\n",
      "Receiving objects: 100% (41275/41275), 91.30 MiB | 18.81 MiB/s, done.\n",
      "Resolving deltas: 100% (30682/30682), done.\n",
      "Updating files: 100% (3139/3139), done.\n",
      "Submodule 'tools' (https://github.com/castorini/anserini-tools.git) registered for path 'tools'\n",
      "Cloning into '/mnt/batch/tasks/shared/LS_root/mounts/clusters/standardnc4ast4v3/code/Users/joho.hideo.gb/transfer2/DCLR/vendors/anserini/tools'...\n",
      "remote: Enumerating objects: 991, done.        \n",
      "remote: Counting objects: 100% (748/748), done.        \n",
      "remote: Compressing objects: 100% (630/630), done.        \n",
      "remote: Total 991 (delta 141), reused 717 (delta 117), pack-reused 243        \n",
      "Receiving objects: 100% (991/991), 643.39 MiB | 17.41 MiB/s, done.\n",
      "Resolving deltas: 100% (225/225), done.\n",
      "Submodule path 'tools': checked out 'e56b062610e3642431631604296a1079dade386a'\n"
     ]
    }
   ],
   "source": [
    "!git clone --recurse-submodules https://github.com/castorini/anserini.git $VENDOR/anserini"
   ]
  },
  {
   "cell_type": "code",
   "execution_count": 31,
   "metadata": {},
   "outputs": [],
   "source": [
    "# -T 2C means two cores for mvn. Change it based on your enviornment.\n",
    "!cd $VENDOR/anserini && mvn clean package -q -DskipTests -Dmaven.javadoc.skip=true -T 2C"
   ]
  },
  {
   "cell_type": "code",
   "execution_count": 36,
   "metadata": {
    "tags": []
   },
   "outputs": [],
   "source": [
    "os.environ['ANSERINI_CLASSPATH'] = os.getenv('VENDOR') + '/anserini/target/'\n",
    "os.environ['CLASSPATH'] = os.getenv('ANSERINI_CLASSPATH') + ':' + os.getenv('CLASSPATH')"
   ]
  },
  {
   "cell_type": "markdown",
   "metadata": {},
   "source": [
    "### Pyserini"
   ]
  },
  {
   "cell_type": "code",
   "execution_count": 9,
   "metadata": {},
   "outputs": [],
   "source": [
    "import sys\n",
    "!{sys.executable} -m pip install -q pyserini"
   ]
  },
  {
   "cell_type": "markdown",
   "metadata": {},
   "source": [
    "### PyTerrier"
   ]
  },
  {
   "cell_type": "code",
   "execution_count": 10,
   "metadata": {},
   "outputs": [],
   "source": [
    "import sys\n",
    "!{sys.executable} -m pip install -q python-terrier"
   ]
  },
  {
   "cell_type": "markdown",
   "metadata": {},
   "source": [
    "## Dataset"
   ]
  },
  {
   "cell_type": "code",
   "execution_count": 11,
   "metadata": {},
   "outputs": [],
   "source": [
    "import sys\n",
    "!{sys.executable} -m pip install -q ir_datasets"
   ]
  },
  {
   "cell_type": "code",
   "execution_count": 8,
   "metadata": {},
   "outputs": [],
   "source": [
    "import sys\n",
    "sys.path.append(os.getenv('DATASET'))"
   ]
  },
  {
   "cell_type": "code",
   "execution_count": 9,
   "metadata": {},
   "outputs": [],
   "source": [
    "import ir_datasets\n",
    "import ntcir_transfer\n",
    "dataset = ir_datasets.load('ntcir-transfer/2/train')"
   ]
  },
  {
   "cell_type": "markdown",
   "metadata": {},
   "source": [
    "## Experiments"
   ]
  },
  {
   "cell_type": "markdown",
   "metadata": {},
   "source": [
    "### BM25\n",
    "\n",
    "- Japanese queries against English collection (without translation)"
   ]
  },
  {
   "cell_type": "markdown",
   "metadata": {},
   "source": [
    "#### Indexing"
   ]
  },
  {
   "cell_type": "code",
   "execution_count": 12,
   "metadata": {
    "tags": []
   },
   "outputs": [
    {
     "name": "stdout",
     "output_type": "stream",
     "text": [
      "ntc1-e1\t\t\trel2_ntc1-e1_0001-0030.utf8\n",
      "ntc1-e1.utf8\t\trel2_ntc1-e1_0001-0030.utf8.tsv\n",
      "ntc1-e1.utf8.jsonl\trel2_ntc1-e1_0001-0083.utf8.tsv\n",
      "pyserini\t\trel2_ntc1-e1_0031-0083\n",
      "rel1_ntc1-e1_0001-0030\trel2_ntc1-e1_0031-0083.utf8\n",
      "rel1_ntc1-e1_0031-0083\trel2_ntc1-e1_0031-0083.utf8.tsv\n",
      "rel2_ntc1-e1_0001-0030\n"
     ]
    }
   ],
   "source": [
    "!ls $TC/clir/"
   ]
  },
  {
   "cell_type": "code",
   "execution_count": 29,
   "metadata": {},
   "outputs": [],
   "source": [
    "!mkdir -p $TC/clir/pyserini/jsonl && \\\n",
    " cat $TC/clir/ntc1-e1.utf8.jsonl | \\\n",
    " sed 's/\"doc_id\":/\"id\":/' | \\\n",
    " sed 's/\"text\":/\"contents\":/' > $TC/clir/pyserini/jsonl/ntc1-e1.utf8.jsonl"
   ]
  },
  {
   "cell_type": "code",
   "execution_count": null,
   "metadata": {
    "tags": []
   },
   "outputs": [],
   "source": [
    "!head -1 $TC/clir/pyserini/jsonl/ntc1-e1.utf8.jsonl"
   ]
  },
  {
   "cell_type": "code",
   "execution_count": 31,
   "metadata": {
    "collapsed": true,
    "jupyter": {
     "outputs_hidden": true
    },
    "tags": []
   },
   "outputs": [
    {
     "name": "stdout",
     "output_type": "stream",
     "text": [
      "2024-07-31 13:16:10,056 INFO  [main] index.AbstractIndexer (AbstractIndexer.java:204) - Setting log level to INFO\n",
      "2024-07-31 13:16:10,059 INFO  [main] index.AbstractIndexer (AbstractIndexer.java:207) - ============ Loading Index Configuration ============\n",
      "2024-07-31 13:16:10,059 INFO  [main] index.AbstractIndexer (AbstractIndexer.java:208) - AbstractIndexer settings:\n",
      "2024-07-31 13:16:10,059 INFO  [main] index.AbstractIndexer (AbstractIndexer.java:209) -  + DocumentCollection path: /home/azureuser/cloudfiles/code/Users/joho.hideo.gb/transfer2/DCLR/testcollections/ntcir/NTCIR-1/clir/pyserini\n",
      "2024-07-31 13:16:10,059 INFO  [main] index.AbstractIndexer (AbstractIndexer.java:210) -  + CollectionClass: JsonCollection\n",
      "2024-07-31 13:16:10,060 INFO  [main] index.AbstractIndexer (AbstractIndexer.java:211) -  + Index path: /home/azureuser/cloudfiles/code/Users/joho.hideo.gb/transfer2/DCLR/indexes/ntcir18-transfer/train/pyserini/sparse\n",
      "2024-07-31 13:16:10,060 INFO  [main] index.AbstractIndexer (AbstractIndexer.java:212) -  + Threads: 2\n",
      "2024-07-31 13:16:10,060 INFO  [main] index.AbstractIndexer (AbstractIndexer.java:213) -  + Optimize (merge segments)? false\n",
      "Jul 31, 2024 1:16:10 PM org.apache.lucene.store.MemorySegmentIndexInputProvider <init>\n",
      "INFO: Using MemorySegmentIndexInput with Java 21; to disable start with -Dorg.apache.lucene.store.MMapDirectory.enableMemorySegments=false\n",
      "2024-07-31 13:16:10,347 INFO  [main] index.IndexCollection (IndexCollection.java:246) - Using DefaultEnglishAnalyzer\n",
      "2024-07-31 13:16:10,347 INFO  [main] index.IndexCollection (IndexCollection.java:247) - Stemmer: porter\n",
      "2024-07-31 13:16:10,347 INFO  [main] index.IndexCollection (IndexCollection.java:248) - Keep stopwords? false\n",
      "2024-07-31 13:16:10,348 INFO  [main] index.IndexCollection (IndexCollection.java:249) - Stopwords file: null\n",
      "2024-07-31 13:16:10,747 INFO  [main] index.IndexCollection (IndexCollection.java:197) - IndexCollection settings:\n",
      "2024-07-31 13:16:10,747 INFO  [main] index.IndexCollection (IndexCollection.java:198) -  + Generator: DefaultLuceneDocumentGenerator\n",
      "2024-07-31 13:16:10,747 INFO  [main] index.IndexCollection (IndexCollection.java:199) -  + Language: en\n",
      "2024-07-31 13:16:10,747 INFO  [main] index.IndexCollection (IndexCollection.java:200) -  + Stemmer: porter\n",
      "2024-07-31 13:16:10,747 INFO  [main] index.IndexCollection (IndexCollection.java:201) -  + Keep stopwords? false\n",
      "2024-07-31 13:16:10,748 INFO  [main] index.IndexCollection (IndexCollection.java:202) -  + Stopwords: null\n",
      "2024-07-31 13:16:10,748 INFO  [main] index.IndexCollection (IndexCollection.java:203) -  + Store positions? true\n",
      "2024-07-31 13:16:10,748 INFO  [main] index.IndexCollection (IndexCollection.java:204) -  + Store docvectors? true\n",
      "2024-07-31 13:16:10,748 INFO  [main] index.IndexCollection (IndexCollection.java:205) -  + Store document \"contents\" field? false\n",
      "2024-07-31 13:16:10,748 INFO  [main] index.IndexCollection (IndexCollection.java:206) -  + Store document \"raw\" field? true\n",
      "2024-07-31 13:16:10,749 INFO  [main] index.IndexCollection (IndexCollection.java:207) -  + Additional fields to index: []\n",
      "2024-07-31 13:16:10,749 INFO  [main] index.IndexCollection (IndexCollection.java:208) -  + Whitelist: null\n",
      "2024-07-31 13:16:10,749 INFO  [main] index.IndexCollection (IndexCollection.java:209) -  + Pretokenized?: false\n",
      "2024-07-31 13:16:10,749 INFO  [main] index.IndexCollection (IndexCollection.java:210) -  + Codec: Lucene99\n",
      "2024-07-31 13:16:10,749 INFO  [main] index.AbstractIndexer (AbstractIndexer.java:237) - ============ Indexing Collection ============\n",
      "2024-07-31 13:16:10,781 INFO  [main] index.AbstractIndexer (AbstractIndexer.java:246) - Thread pool with 2 threads initialized.\n",
      "2024-07-31 13:16:10,782 INFO  [main] index.AbstractIndexer (AbstractIndexer.java:247) - 1 file found in /home/azureuser/cloudfiles/code/Users/joho.hideo.gb/transfer2/DCLR/testcollections/ntcir/NTCIR-1/clir/pyserini\n",
      "2024-07-31 13:16:10,782 INFO  [main] index.AbstractIndexer (AbstractIndexer.java:248) - Starting to index...\n",
      "2024-07-31 13:16:29,999 INFO  [main] index.AbstractIndexer (AbstractIndexer.java:306) - Indexing Complete! 187,080 documents indexed\n",
      "2024-07-31 13:16:29,999 INFO  [main] index.AbstractIndexer (AbstractIndexer.java:307) - ============ Final Counter Values ============\n",
      "2024-07-31 13:16:30,000 INFO  [main] index.AbstractIndexer (AbstractIndexer.java:308) - indexed:          187,080\n",
      "2024-07-31 13:16:30,000 INFO  [main] index.AbstractIndexer (AbstractIndexer.java:309) - unindexable:            0\n",
      "2024-07-31 13:16:30,000 INFO  [main] index.AbstractIndexer (AbstractIndexer.java:310) - empty:                  0\n",
      "2024-07-31 13:16:30,000 INFO  [main] index.AbstractIndexer (AbstractIndexer.java:311) - skipped:                0\n",
      "2024-07-31 13:16:30,001 INFO  [main] index.AbstractIndexer (AbstractIndexer.java:312) - errors:                 0\n",
      "2024-07-31 13:16:30,074 INFO  [main] index.AbstractIndexer (AbstractIndexer.java:315) - Total 187,080 documents indexed in 00:00:19\n"
     ]
    }
   ],
   "source": [
    "!java -cp $CLASSPATH io.anserini.index.IndexCollection \\\n",
    "  -collection JsonCollection \\\n",
    "  -input $TC/clir/pyserini  \\\n",
    "  -language en \\\n",
    "  -index $INDEX/sparse \\\n",
    "  -generator DefaultLuceneDocumentGenerator \\\n",
    "  -threads 2 \\\n",
    "  -storePositions -storeDocvectors -storeRaw"
   ]
  },
  {
   "cell_type": "markdown",
   "metadata": {},
   "source": [
    "#### Retrieval"
   ]
  },
  {
   "cell_type": "code",
   "execution_count": null,
   "metadata": {},
   "outputs": [],
   "source": [
    "!cat $TC/topics/topic0001-0083.utf8.jsonl | \\\n",
    " sed -r 's/.*: \"(.*)\", \"text\": \"(.*)\", \"description\": \"(.*)\".*/\\1\\t\\2/g' > $TC/topics/topic0001-0083-ja.utf8.tsv"
   ]
  },
  {
   "cell_type": "code",
   "execution_count": 3,
   "metadata": {
    "tags": []
   },
   "outputs": [
    {
     "name": "stdout",
     "output_type": "stream",
     "text": [
      "topic0001-0030\t\t    topic0001-0083.utf8.jsonl\n",
      "topic0001-0030.utf8\t    topic0031-0083\n",
      "topic0001-0030.utf8.jsonl   topic0031-0083.utf8\n",
      "topic0001-0083-en.utf8.tsv  topic0031-0083.utf8.jsonl\n",
      "topic0001-0083-ja.utf8.tsv\n"
     ]
    }
   ],
   "source": [
    "!ls $TC/topics"
   ]
  },
  {
   "cell_type": "code",
   "execution_count": null,
   "metadata": {
    "tags": []
   },
   "outputs": [],
   "source": [
    "!head $TC/topics/topic0001-0083-ja.utf8.tsv"
   ]
  },
  {
   "cell_type": "code",
   "execution_count": 38,
   "metadata": {
    "tags": []
   },
   "outputs": [
    {
     "data": {
      "text/plain": [
       "['/bin/bash: /anaconda/envs/myenv/lib/libtinfo.so.6: no version information available (required by /bin/bash)',\n",
       " '2024-08-01 17:12:02,162 INFO  [main] search.SearchCollection (SearchCollection.java:1008) - ============ Initializing Searcher ============',\n",
       " '2024-08-01 17:12:02,165 INFO  [main] search.SearchCollection (SearchCollection.java:1009) - Index: /home/azureuser/cloudfiles/code/Users/joho.hideo.gb/transfer2/DCLR/indexes/ntcir18-transfer/train/pyserini/sparse',\n",
       " 'Aug 01, 2024 5:12:02 PM org.apache.lucene.store.MemorySegmentIndexInputProvider <init>',\n",
       " 'INFO: Using MemorySegmentIndexInput with Java 21; to disable start with -Dorg.apache.lucene.store.MMapDirectory.enableMemorySegments=false',\n",
       " '2024-08-01 17:12:04,453 INFO  [main] search.SearchCollection (SearchCollection.java:1012) - Threads: 4',\n",
       " '2024-08-01 17:12:04,454 INFO  [main] search.SearchCollection (SearchCollection.java:1013) - Fields: []',\n",
       " '2024-08-01 17:12:04,454 INFO  [main] search.SearchCollection (SearchCollection.java:1027) - MaxPassage: false',\n",
       " '2024-08-01 17:12:04,454 INFO  [main] search.SearchCollection (SearchCollection.java:1032) - Hits: 1000',\n",
       " '2024-08-01 17:12:04,454 INFO  [main] search.SearchCollection (SearchCollection.java:1045) - Collection class: null',\n",
       " '2024-08-01 17:12:04,458 INFO  [main] search.SearchCollection (SearchCollection.java:1323) - Using language-specific analyzer',\n",
       " '2024-08-01 17:12:04,458 INFO  [main] search.SearchCollection (SearchCollection.java:1324) - Language: ja',\n",
       " '2024-08-01 17:12:04,737 INFO  [main] search.SearchCollection (SearchCollection.java:1345) - ============ Launching Search Threads ============',\n",
       " '2024-08-01 17:12:04,737 INFO  [main] search.SearchCollection (SearchCollection.java:1346) - runtag: Anserini',\n",
       " '2024-08-01 17:12:06,092 INFO  [pool-2-thread-1] search.SearchCollection$SearcherThread (SearchCollection.java:925) - ranker: bm25(k1=0.9,b=0.4), reranker: default: 83 queries processed in 00:00:01 = ~65.82 q/s',\n",
       " '2024-08-01 17:12:06,250 INFO  [main] search.SearchCollection (SearchCollection.java:1418) - Total run time: 00:00:04']"
      ]
     },
     "execution_count": 38,
     "metadata": {},
     "output_type": "execute_result"
    }
   ],
   "source": [
    "!!mkdir -p $RUN && \\\n",
    "  java -cp $CLASSPATH io.anserini.search.SearchCollection \\\n",
    "  -index $INDEX/sparse \\\n",
    "  -topicReader TsvString \\\n",
    "  -topics $TC/topics/topic0001-0083-ja.utf8.tsv \\\n",
    "  -output $RUN/MyRun-BM25-pyserini.res \\\n",
    "  -language ja \\\n",
    "  -bm25"
   ]
  },
  {
   "cell_type": "markdown",
   "metadata": {},
   "source": [
    "### mDPR\n",
    "\n",
    "- https://castorini.github.io/pyserini/2cr/miracl.html\n",
    "- https://huggingface.co/castorini/mdpr-tied-pft-msmarco"
   ]
  },
  {
   "cell_type": "markdown",
   "metadata": {},
   "source": [
    "#### Encoding"
   ]
  },
  {
   "cell_type": "code",
   "execution_count": 23,
   "metadata": {},
   "outputs": [
    {
     "name": "stdout",
     "output_type": "stream",
     "text": [
      "/bin/bash: /anaconda/envs/myenv/lib/libtinfo.so.6: no version information available (required by /bin/bash)\n",
      "187080it [00:01, 116045.98it/s]\n",
      "100%|███████████████████████████████████████| 5847/5847 [51:22<00:00,  1.90it/s]\n",
      "CPU times: user 21 s, sys: 5.1 s, total: 26.1 s\n",
      "Wall time: 51min 33s\n"
     ]
    }
   ],
   "source": [
    "%%time\n",
    "!{sys.executable} -m pyserini.encode \\\n",
    "  input   --corpus $TC/clir/pyserini/jsonl/ntc1-e1.utf8.jsonl \\\n",
    "          --fields text \\\n",
    "          --delimiter \"\\n\" \\\n",
    "          --shard-id 0 \\\n",
    "          --shard-num 1 \\\n",
    "  output  --embeddings $TC/clir/pyserini/embedding-mdpr \\\n",
    "          --to-faiss \\\n",
    "  encoder --encoder castorini/mdpr-tied-pft-msmarco \\\n",
    "          --encoder-class auto \\\n",
    "          --fields text \\\n",
    "          --batch-size 32 \\\n",
    "          --max-length 512 \\\n",
    "          --device cuda:0 \\\n",
    "          --fp16"
   ]
  },
  {
   "cell_type": "markdown",
   "metadata": {},
   "source": [
    "#### Indexing"
   ]
  },
  {
   "cell_type": "code",
   "execution_count": 26,
   "metadata": {},
   "outputs": [
    {
     "name": "stdout",
     "output_type": "stream",
     "text": [
      "/bin/bash: /anaconda/envs/myenv/lib/libtinfo.so.6: no version information available (required by /bin/bash)\n",
      "Vector Shape: (187080, 768)\n",
      "hnsw_add_vertices: adding 187080 elements on top of 0 (preset_levels=0)\n",
      "  max_level = 2\n",
      "Adding 2 elements at level 2\n",
      "Adding 696 elements at level 1\n",
      "Adding 186382 elements at level 0\n",
      "Done in 343522.081 ms\n",
      "Number of indexed vectors: 187080\n",
      "CPU times: user 3.84 s, sys: 530 ms, total: 4.37 s\n",
      "Wall time: 6min 11s\n"
     ]
    }
   ],
   "source": [
    "%%time\n",
    "!{sys.executable} -m pyserini.index.faiss \\\n",
    "  --input $TC/clir/pyserini/embedding-mdpr \\\n",
    "  --output $INDEX/dense/mdpr/ \\\n",
    "  --hnsw \\\n",
    "  --pq"
   ]
  },
  {
   "cell_type": "markdown",
   "metadata": {},
   "source": [
    "#### Retrieval"
   ]
  },
  {
   "cell_type": "code",
   "execution_count": 42,
   "metadata": {},
   "outputs": [
    {
     "name": "stdout",
     "output_type": "stream",
     "text": [
      "/bin/bash: /anaconda/envs/myenv/lib/libtinfo.so.6: no version information available (required by /bin/bash)\n",
      "Running /home/azureuser/cloudfiles/code/Users/joho.hideo.gb/transfer2/DCLR/testcollections/ntcir/NTCIR-1/topics/topic0001-0083-ja.utf8.tsv topics, saving to /home/azureuser/cloudfiles/code/Users/joho.hideo.gb/transfer2/DCLR/runs/ntcir18-transfer/train/MyRun-mdpr-pyserini.res...\n",
      "  0%|                                                    | 0/83 [00:00<?, ?it/s]Asking to truncate to max_length but no maximum length is provided and the model has no predefined maximum length. Default to no truncation.\n",
      "100%|███████████████████████████████████████████| 83/83 [00:01<00:00, 58.47it/s]\n",
      "CPU times: user 108 ms, sys: 39.3 ms, total: 147 ms\n",
      "Wall time: 13.6 s\n"
     ]
    }
   ],
   "source": [
    "%%time\n",
    "!{sys.executable} -m pyserini.search.faiss \\\n",
    "  --index $INDEX/dense/mdpr \\\n",
    "  --topics $TC/topics/topic0001-0083-ja.utf8.tsv \\\n",
    "  --output $RUN/MyRun-mdpr-pyserini.res \\\n",
    "  --encoder-class auto \\\n",
    "  --encoder castorini/mdpr-tied-pft-msmarco \\\n",
    "  --tokenizer castorini/mdpr-tied-pft-msmarco \\\n",
    "  --device cuda:0 \\\n",
    "  --batch-size 32"
   ]
  },
  {
   "cell_type": "markdown",
   "metadata": {},
   "source": [
    "### mDPR (En)\n",
    "\n",
    "- https://castorini.github.io/pyserini/2cr/miracl.html\n",
    "- https://huggingface.co/castorini/mdpr-tied-pft-msmarco-ft-miracl-en"
   ]
  },
  {
   "cell_type": "markdown",
   "metadata": {},
   "source": [
    "#### Encoding"
   ]
  },
  {
   "cell_type": "code",
   "execution_count": 24,
   "metadata": {},
   "outputs": [
    {
     "name": "stdout",
     "output_type": "stream",
     "text": [
      "/bin/bash: /anaconda/envs/myenv/lib/libtinfo.so.6: no version information available (required by /bin/bash)\n",
      "187080it [00:01, 106912.78it/s]\n",
      "100%|███████████████████████████████████████| 5847/5847 [51:40<00:00,  1.89it/s]\n",
      "CPU times: user 21.2 s, sys: 5.38 s, total: 26.5 s\n",
      "Wall time: 51min 51s\n"
     ]
    }
   ],
   "source": [
    "%%time\n",
    "!{sys.executable} -m pyserini.encode \\\n",
    "  input   --corpus $TC/clir/pyserini/jsonl/ntc1-e1.utf8.jsonl \\\n",
    "          --fields text \\\n",
    "          --delimiter \"\\n\" \\\n",
    "          --shard-id 0 \\\n",
    "          --shard-num 1 \\\n",
    "  output  --embeddings $TC/clir/pyserini/embedding-mdpr-en \\\n",
    "          --to-faiss \\\n",
    "  encoder --encoder castorini/mdpr-tied-pft-msmarco-ft-miracl-en \\\n",
    "          --encoder-class auto \\\n",
    "          --fields text \\\n",
    "          --batch-size 32 \\\n",
    "          --max-length 512 \\\n",
    "          --device cuda:0 \\\n",
    "          --fp16"
   ]
  },
  {
   "cell_type": "markdown",
   "metadata": {},
   "source": [
    "#### Indexing"
   ]
  },
  {
   "cell_type": "code",
   "execution_count": 27,
   "metadata": {},
   "outputs": [
    {
     "name": "stdout",
     "output_type": "stream",
     "text": [
      "/bin/bash: /anaconda/envs/myenv/lib/libtinfo.so.6: no version information available (required by /bin/bash)\n",
      "Vector Shape: (187080, 768)\n",
      "hnsw_add_vertices: adding 187080 elements on top of 0 (preset_levels=0)\n",
      "  max_level = 2\n",
      "Adding 2 elements at level 2\n",
      "Adding 696 elements at level 1\n",
      "Adding 186382 elements at level 0\n",
      "Done in 307654.108 ms\n",
      "Number of indexed vectors: 187080\n",
      "CPU times: user 3.39 s, sys: 556 ms, total: 3.95 s\n",
      "Wall time: 5min 35s\n"
     ]
    }
   ],
   "source": [
    "%%time\n",
    "!{sys.executable} -m pyserini.index.faiss \\\n",
    "  --input $TC/clir/pyserini/embedding-mdpr-en \\\n",
    "  --output $INDEX/dense/mdpr-en/ \\\n",
    "  --hnsw \\\n",
    "  --pq"
   ]
  },
  {
   "cell_type": "markdown",
   "metadata": {},
   "source": [
    "#### Retrieval"
   ]
  },
  {
   "cell_type": "code",
   "execution_count": 43,
   "metadata": {},
   "outputs": [
    {
     "name": "stdout",
     "output_type": "stream",
     "text": [
      "/bin/bash: /anaconda/envs/myenv/lib/libtinfo.so.6: no version information available (required by /bin/bash)\n",
      "Running /home/azureuser/cloudfiles/code/Users/joho.hideo.gb/transfer2/DCLR/testcollections/ntcir/NTCIR-1/topics/topic0001-0083-ja.utf8.tsv topics, saving to /home/azureuser/cloudfiles/code/Users/joho.hideo.gb/transfer2/DCLR/runs/ntcir18-transfer/train/MyRun-mdpr-en-pyserini.res...\n",
      "100%|███████████████████████████████████████████| 83/83 [00:01<00:00, 58.84it/s]\n",
      "CPU times: user 102 ms, sys: 40.5 ms, total: 142 ms\n",
      "Wall time: 13.2 s\n"
     ]
    }
   ],
   "source": [
    "%%time\n",
    "!{sys.executable} -m pyserini.search.faiss \\\n",
    "  --index $INDEX/dense/mdpr-en \\\n",
    "  --topics $TC/topics/topic0001-0083-ja.utf8.tsv \\\n",
    "  --output $RUN/MyRun-mdpr-en-pyserini.res \\\n",
    "  --encoder-class auto \\\n",
    "  --encoder castorini/mdpr-tied-pft-msmarco-ft-miracl-en \\\n",
    "  --tokenizer castorini/mdpr-tied-pft-msmarco-ft-miracl-en \\\n",
    "  --device cuda:0 \\\n",
    "  --batch-size 32"
   ]
  },
  {
   "cell_type": "markdown",
   "metadata": {},
   "source": [
    "### mDPR (ja)\n",
    "\n",
    "- https://castorini.github.io/pyserini/2cr/miracl.html\n",
    "- https://huggingface.co/castorini/mdpr-tied-pft-msmarco-ft-miracl-ja"
   ]
  },
  {
   "cell_type": "markdown",
   "metadata": {},
   "source": [
    "#### Encoding"
   ]
  },
  {
   "cell_type": "code",
   "execution_count": 25,
   "metadata": {},
   "outputs": [
    {
     "name": "stdout",
     "output_type": "stream",
     "text": [
      "/bin/bash: /anaconda/envs/myenv/lib/libtinfo.so.6: no version information available (required by /bin/bash)\n",
      "187080it [00:01, 113487.55it/s]\n",
      "100%|███████████████████████████████████████| 5847/5847 [51:41<00:00,  1.89it/s]\n",
      "CPU times: user 20.6 s, sys: 5.6 s, total: 26.2 s\n",
      "Wall time: 51min 52s\n"
     ]
    }
   ],
   "source": [
    "%%time\n",
    "!{sys.executable} -m pyserini.encode \\\n",
    "  input   --corpus $TC/clir/pyserini/jsonl/ntc1-e1.utf8.jsonl \\\n",
    "          --fields text \\\n",
    "          --delimiter \"\\n\" \\\n",
    "          --shard-id 0 \\\n",
    "          --shard-num 1 \\\n",
    "  output  --embeddings $TC/clir/pyserini/embedding-mdpr-ja \\\n",
    "          --to-faiss \\\n",
    "  encoder --encoder castorini/mdpr-tied-pft-msmarco-ft-miracl-ja \\\n",
    "          --encoder-class auto \\\n",
    "          --fields text \\\n",
    "          --batch-size 32 \\\n",
    "          --max-length 512 \\\n",
    "          --device cuda:0 \\\n",
    "          --fp16"
   ]
  },
  {
   "cell_type": "markdown",
   "metadata": {},
   "source": [
    "#### Indexing"
   ]
  },
  {
   "cell_type": "code",
   "execution_count": 28,
   "metadata": {},
   "outputs": [
    {
     "name": "stdout",
     "output_type": "stream",
     "text": [
      "/bin/bash: /anaconda/envs/myenv/lib/libtinfo.so.6: no version information available (required by /bin/bash)\n",
      "Vector Shape: (187080, 768)\n",
      "hnsw_add_vertices: adding 187080 elements on top of 0 (preset_levels=0)\n",
      "  max_level = 2\n",
      "Adding 2 elements at level 2\n",
      "Adding 696 elements at level 1\n",
      "Adding 186382 elements at level 0\n",
      "Done in 343710.555 ms\n",
      "Number of indexed vectors: 187080\n",
      "CPU times: user 3.75 s, sys: 601 ms, total: 4.35 s\n",
      "Wall time: 6min 10s\n"
     ]
    }
   ],
   "source": [
    "%%time\n",
    "!{sys.executable}-m pyserini.index.faiss \\\n",
    "  --input $TC/clir/pyserini/embedding-mdpr-ja \\\n",
    "  --output $INDEX/dense/mdpr-ja/ \\\n",
    "  --hnsw \\\n",
    "  --pq"
   ]
  },
  {
   "cell_type": "markdown",
   "metadata": {},
   "source": [
    "#### Retrieval"
   ]
  },
  {
   "cell_type": "code",
   "execution_count": 44,
   "metadata": {},
   "outputs": [
    {
     "name": "stdout",
     "output_type": "stream",
     "text": [
      "/bin/bash: /anaconda/envs/myenv/lib/libtinfo.so.6: no version information available (required by /bin/bash)\n",
      "Running /home/azureuser/cloudfiles/code/Users/joho.hideo.gb/transfer2/DCLR/testcollections/ntcir/NTCIR-1/topics/topic0001-0083-ja.utf8.tsv topics, saving to /home/azureuser/cloudfiles/code/Users/joho.hideo.gb/transfer2/DCLR/runs/ntcir18-transfer/train/MyRun-mdpr-ja-pyserini.res...\n",
      "100%|███████████████████████████████████████████| 83/83 [00:01<00:00, 53.90it/s]\n",
      "CPU times: user 106 ms, sys: 39.7 ms, total: 145 ms\n",
      "Wall time: 13.1 s\n"
     ]
    }
   ],
   "source": [
    "%%time\n",
    "!{sys.executable} -m pyserini.search.faiss \\\n",
    "  --index $INDEX/dense/mdpr-ja \\\n",
    "  --topics $TC/topics/topic0001-0083-ja.utf8.tsv \\\n",
    "  --output $RUN/MyRun-mdpr-ja-pyserini.res \\\n",
    "  --encoder-class auto \\\n",
    "  --encoder castorini/mdpr-tied-pft-msmarco-ft-miracl-ja \\\n",
    "  --tokenizer castorini/mdpr-tied-pft-msmarco-ft-miracl-ja \\\n",
    "  --device cuda:0 \\\n",
    "  --batch-size 32"
   ]
  },
  {
   "cell_type": "markdown",
   "metadata": {},
   "source": [
    "## Evaluation"
   ]
  },
  {
   "cell_type": "code",
   "execution_count": 45,
   "metadata": {},
   "outputs": [],
   "source": [
    "import pandas as pd\n",
    "import pyterrier as pt\n",
    "if not pt.started():\n",
    "  pt.init(tqdm='notebook')"
   ]
  },
  {
   "cell_type": "code",
   "execution_count": 46,
   "metadata": {},
   "outputs": [],
   "source": [
    "BM25_DF = pt.io.read_results(os.getenv('RUN') + \"/MyRun-BM25-pyserini.res\")\n",
    "MDPR_DF = pt.io.read_results(os.getenv('RUN') + \"/MyRun-mdpr-pyserini.res\")\n",
    "MDPR_EN_DF = pt.io.read_results(os.getenv('RUN') + \"/MyRun-mdpr-en-pyserini.res\")\n",
    "MDPR_JA_DF = pt.io.read_results(os.getenv('RUN') + \"/MyRun-mdpr-ja-pyserini.res\")\n",
    "BM25_DF['qid'] = BM25_DF['qid'].str.zfill(4)\n",
    "MDPR_DF['qid'] = MDPR_DF['qid'].str.zfill(4)\n",
    "MDPR_EN_DF['qid'] = MDPR_EN_DF['qid'].str.zfill(4)\n",
    "MDPR_JA_DF['qid'] = MDPR_JA_DF['qid'].str.zfill(4)"
   ]
  },
  {
   "cell_type": "code",
   "execution_count": 47,
   "metadata": {},
   "outputs": [],
   "source": [
    "dataset_pt = pt.get_dataset('irds:ntcir-transfer/2/train')"
   ]
  },
  {
   "cell_type": "code",
   "execution_count": 48,
   "metadata": {},
   "outputs": [
    {
     "data": {
      "text/html": [
       "<div>\n",
       "<style scoped>\n",
       "    .dataframe tbody tr th:only-of-type {\n",
       "        vertical-align: middle;\n",
       "    }\n",
       "\n",
       "    .dataframe tbody tr th {\n",
       "        vertical-align: top;\n",
       "    }\n",
       "\n",
       "    .dataframe thead th {\n",
       "        text-align: right;\n",
       "    }\n",
       "</style>\n",
       "<table border=\"1\" class=\"dataframe\">\n",
       "  <thead>\n",
       "    <tr style=\"text-align: right;\">\n",
       "      <th></th>\n",
       "      <th>name</th>\n",
       "      <th>RR</th>\n",
       "      <th>nDCG@10</th>\n",
       "      <th>nDCG</th>\n",
       "    </tr>\n",
       "  </thead>\n",
       "  <tbody>\n",
       "    <tr>\n",
       "      <th>0</th>\n",
       "      <td>BM25</td>\n",
       "      <td>0.054581</td>\n",
       "      <td>0.039214</td>\n",
       "      <td>0.053989</td>\n",
       "    </tr>\n",
       "    <tr>\n",
       "      <th>1</th>\n",
       "      <td>mDPR</td>\n",
       "      <td>0.206787</td>\n",
       "      <td>0.082869</td>\n",
       "      <td>0.171059</td>\n",
       "    </tr>\n",
       "    <tr>\n",
       "      <th>2</th>\n",
       "      <td>mDPR (En)</td>\n",
       "      <td>0.162232</td>\n",
       "      <td>0.088099</td>\n",
       "      <td>0.177437</td>\n",
       "    </tr>\n",
       "    <tr>\n",
       "      <th>3</th>\n",
       "      <td>mDPR (Ja)</td>\n",
       "      <td>0.135592</td>\n",
       "      <td>0.048180</td>\n",
       "      <td>0.140727</td>\n",
       "    </tr>\n",
       "  </tbody>\n",
       "</table>\n",
       "</div>"
      ],
      "text/plain": [
       "          name        RR   nDCG@10      nDCG\n",
       "0         BM25  0.054581  0.039214  0.053989\n",
       "1         mDPR  0.206787  0.082869  0.171059\n",
       "2    mDPR (En)  0.162232  0.088099  0.177437\n",
       "3    mDPR (Ja)  0.135592  0.048180  0.140727"
      ]
     },
     "execution_count": 48,
     "metadata": {},
     "output_type": "execute_result"
    }
   ],
   "source": [
    "from pyterrier.measures import *\n",
    "pt.Experiment(\n",
    "    [BM25_DF,MDPR_DF,MDPR_EN_DF,MDPR_JA_DF],\n",
    "    topics=dataset_pt.get_topics(),\n",
    "    qrels=dataset_pt.get_qrels(),\n",
    "    names=[\"BM25\", \"mDPR\", \"mDPR (En)\", \"mDPR (Ja)\"],\n",
    "    eval_metrics=[MRR, nDCG@10, nDCG],\n",
    "    filter_by_qrels=True\n",
    ")"
   ]
  },
  {
   "cell_type": "markdown",
   "metadata": {},
   "source": [
    "## Where can we go from here?\n",
    "\n",
    "- Try other multilingual models\n",
    "- Fine-tuning\n",
    "- etc."
   ]
  }
 ],
 "metadata": {
  "kernelspec": {
   "display_name": "Python 3 (ipykernel)",
   "language": "python",
   "name": "python3"
  },
  "language_info": {
   "codemirror_mode": {
    "name": "ipython",
    "version": 3
   },
   "file_extension": ".py",
   "mimetype": "text/x-python",
   "name": "python",
   "nbconvert_exporter": "python",
   "pygments_lexer": "ipython3",
   "version": "3.10.14"
  }
 },
 "nbformat": 4,
 "nbformat_minor": 4
}
