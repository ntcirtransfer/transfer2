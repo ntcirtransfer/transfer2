{
 "cells": [
  {
   "cell_type": "markdown",
   "id": "089f1da7-c7da-409c-ac34-c9e4b83e641e",
   "metadata": {},
   "source": [
    "# Experiment on NTCIR-18 Transfer DCLR Subtask (Train Set)\n",
    "\n",
    "This notebook shows how to apply TFIDF, BM25, and RM3 to the train set of NTCIR-18 Transfer DCLR Subtask using [PyTerrier](https://pyterrier.readthedocs.io/en/latest/) (v0.10.1)."
   ]
  },
  {
   "cell_type": "markdown",
   "id": "8b5d8447-ae65-4a2f-be74-b469d9842b6e",
   "metadata": {},
   "source": [
    "## Previous Step\n",
    "\n",
    "- `preprocess-transfer2-train.ipynb`\n",
    "\n",
    "## Requirement\n",
    "\n",
    "- Java"
   ]
  },
  {
   "cell_type": "markdown",
   "id": "30a0eccc-074e-4d2e-9536-144c58191c0e",
   "metadata": {},
   "source": [
    "## Path"
   ]
  },
  {
   "cell_type": "code",
   "execution_count": 1,
   "id": "16552c30-96ce-4e3e-898f-3aea6b641952",
   "metadata": {
    "tags": []
   },
   "outputs": [],
   "source": [
    "import os\n",
    "INDEX = os.getcwd() + '/../indexes/ntcir18-transfer/train'\n",
    "RUN = os.getcwd() + '/../runs/ntcir18-transfer/train'"
   ]
  },
  {
   "cell_type": "markdown",
   "id": "17bfd4f9-905d-4ed9-93ad-0ac34d1819e9",
   "metadata": {},
   "source": [
    "## Datasets"
   ]
  },
  {
   "cell_type": "code",
   "execution_count": null,
   "id": "703fa07a-aeff-4221-a6ea-fb04b2290a1e",
   "metadata": {},
   "outputs": [],
   "source": [
    "import sys\n",
    "!{sys.executable} -m pip install -q ir_datasets pandas"
   ]
  },
  {
   "cell_type": "code",
   "execution_count": 3,
   "id": "71f8014e-2c66-4927-b255-77acb72fb85e",
   "metadata": {},
   "outputs": [],
   "source": [
    "\n",
    "sys.path.append(os.path.join(os.path.dirname(os.path.abspath('__file__')), '../datasets'))"
   ]
  },
  {
   "cell_type": "code",
   "execution_count": 4,
   "id": "864c0eb2-88a3-4a38-a7f5-55044dc9e01d",
   "metadata": {},
   "outputs": [],
   "source": [
    "import ir_datasets\n",
    "import ntcir_transfer\n",
    "dataset = ir_datasets.load('ntcir-transfer/2/train')"
   ]
  },
  {
   "cell_type": "markdown",
   "id": "d1d7283a",
   "metadata": {},
   "source": [
    "### Queries and Qrels\n",
    "\n",
    "- Note that not all queries in Japanese are included in qrels of English collection"
   ]
  },
  {
   "cell_type": "code",
   "execution_count": null,
   "id": "2846aba3",
   "metadata": {},
   "outputs": [],
   "source": [
    "import pandas as pd\n",
    "pd.set_option('display.max_rows', None)\n",
    "pd.set_option('display.max_colwidth', None)\n",
    "pd.DataFrame(dataset.qrels_iter()).groupby('query_id')['relevance'].value_counts().unstack(fill_value=0)\n"
   ]
  },
  {
   "cell_type": "markdown",
   "id": "3e496db9-abf5-4e54-a7e4-9a894aaa8673",
   "metadata": {},
   "source": [
    "## Query Translation\n",
    "\n",
    "- This example uses a free version of [DeepL API](https://www.deepl.com/en/pro-api).\n",
    "- You need to sign up and get an API key."
   ]
  },
  {
   "cell_type": "code",
   "execution_count": 6,
   "id": "0a240f05",
   "metadata": {},
   "outputs": [],
   "source": [
    "DEEPL_API_KEY = 'Your API Key'"
   ]
  },
  {
   "cell_type": "code",
   "execution_count": null,
   "id": "309606dc",
   "metadata": {},
   "outputs": [],
   "source": [
    "import sys\n",
    "!{sys.executable} -m pip install -q deepl"
   ]
  },
  {
   "cell_type": "code",
   "execution_count": 8,
   "id": "052a7ce4",
   "metadata": {},
   "outputs": [],
   "source": [
    "import deepl\n",
    "translator = deepl.Translator(DEEPL_API_KEY)"
   ]
  },
  {
   "cell_type": "code",
   "execution_count": 9,
   "id": "4025bc5c",
   "metadata": {},
   "outputs": [
    {
     "name": "stderr",
     "output_type": "stream",
     "text": [
      "0001, 0002, 0003, 0004, 0005, 0006, 0007, 0008, 0009, 0010, 0011, 0012, 0013, 0014, 0015, 0016, 0017, 0018, 0019, 0020, 0021, 0022, 0023, 0024, 0025, 0026, 0027, 0028, 0029, 0030, 0031, 0032, 0033, 0034, 0035, 0036, 0037, 0038, 0039, 0040, 0041, 0042, 0043, 0044, 0045, 0046, 0047, 0048, 0049, 0050, 0051, 0052, 0053, 0054, 0055, 0056, 0057, 0058, 0059, 0060, 0061, 0062, 0063, 0064, 0065, 0066, 0067, 0068, 0069, 0070, 0071, 0072, 0073, 0074, 0075, 0076, 0077, 0078, 0079, 0080, 0081, 0082, 0083, Done!\n"
     ]
    }
   ],
   "source": [
    "import time\n",
    "import re\n",
    "import pandas as pd\n",
    "\n",
    "queries_en = []\n",
    "\n",
    "for query_id, text_ja in dataset.queries_iter():\n",
    "    text_en = translator.translate_text(text_ja, source_lang=\"JA\", target_lang=\"EN-US\")\n",
    "    # removing non-alphabetical characters as Terrier doesn't like it\n",
    "    text_en_clean = re.sub(r'\\s+', ' ', re.sub(r'[^a-zA-Z]', ' ', text_en.text)).strip()\n",
    "    queries_en.append({'qid': query_id, 'query': text_en_clean})\n",
    "    print(f'{query_id}, ', end='', file=sys.stderr)\n",
    "\n",
    "    time.sleep(1)\n",
    "\n",
    "print(f'Done!', file=sys.stderr)\n",
    "\n",
    "queries_en_df = pd.DataFrame(queries_en)"
   ]
  },
  {
   "cell_type": "markdown",
   "id": "7a9a67d8",
   "metadata": {},
   "source": [
    "#### Translation check (Optional)"
   ]
  },
  {
   "cell_type": "code",
   "execution_count": null,
   "id": "8fc435e6",
   "metadata": {},
   "outputs": [],
   "source": [
    "queries_en_df_tmp = queries_en_df.copy()\n",
    "queries_en_df_tmp.set_index('qid', inplace=True)\n",
    "queries_ja_df = pd.DataFrame(dataset.queries_iter())\n",
    "queries_ja_df.set_index('query_id', inplace=True)\n",
    "combined_df = queries_ja_df.join(queries_en_df_tmp, how='inner') \n",
    "combined_df"
   ]
  },
  {
   "cell_type": "markdown",
   "id": "63cc205a-bd9c-400d-a438-facf38252e6a",
   "metadata": {},
   "source": [
    "## Experiment"
   ]
  },
  {
   "cell_type": "markdown",
   "id": "e1981f98-d7a7-403f-a295-b3df073abcc8",
   "metadata": {},
   "source": [
    "### PyTerrier"
   ]
  },
  {
   "cell_type": "code",
   "execution_count": 11,
   "id": "1551effc-c2c1-409e-bb40-3465d5b4f86f",
   "metadata": {},
   "outputs": [
    {
     "data": {
      "text/plain": [
       "'C:\\\\jdk-22.0.1'"
      ]
     },
     "execution_count": 11,
     "metadata": {},
     "output_type": "execute_result"
    }
   ],
   "source": [
    "# Change JAVA_HOME to fit your environment\n",
    "JAVA_HOME = 'FIT YOUR ENVIRONMENT'\n",
    "os.environ['JAVA_HOME'] = JAVA_HOME\n",
    "os.getenv('JAVA_HOME')"
   ]
  },
  {
   "cell_type": "code",
   "execution_count": null,
   "id": "31e10940-3128-4e13-bfdf-46c9da136cb7",
   "metadata": {
    "tags": []
   },
   "outputs": [],
   "source": [
    "import sys\n",
    "!{sys.executable} -m pip install -q python-terrier numpy==1.26.4 ipywidgets"
   ]
  },
  {
   "cell_type": "code",
   "execution_count": 13,
   "id": "127cca6a-3f0b-45e9-b0e1-27f871890b2c",
   "metadata": {},
   "outputs": [
    {
     "name": "stderr",
     "output_type": "stream",
     "text": [
      "PyTerrier 0.10.1 has loaded Terrier 5.9 (built by craigm on 2024-05-02 17:40) and terrier-helper 0.0.8\n",
      "\n"
     ]
    }
   ],
   "source": [
    "import pandas as pd\n",
    "import pyterrier as pt\n",
    "if not pt.started():\n",
    "  pt.init(boot_packages=[\"com.github.terrierteam:terrier-prf:-SNAPSHOT\"], tqdm='notebook')"
   ]
  },
  {
   "cell_type": "code",
   "execution_count": 14,
   "id": "4664308e-33cb-4557-bb18-85312a319e82",
   "metadata": {},
   "outputs": [],
   "source": [
    "dataset_pt = pt.get_dataset('irds:ntcir-transfer/2/train')"
   ]
  },
  {
   "cell_type": "markdown",
   "id": "3e954951-001c-494d-8f70-6ae8b74ce37f",
   "metadata": {
    "tags": []
   },
   "source": [
    "### Indexing"
   ]
  },
  {
   "cell_type": "code",
   "execution_count": 15,
   "id": "9d1859c4",
   "metadata": {},
   "outputs": [],
   "source": [
    "os.makedirs(INDEX, exist_ok=True)"
   ]
  },
  {
   "cell_type": "code",
   "execution_count": 16,
   "id": "0d974cd0-55f8-4fae-b3d8-c2340b4a207a",
   "metadata": {},
   "outputs": [],
   "source": [
    "indexer = pt.IterDictIndexer(INDEX)"
   ]
  },
  {
   "cell_type": "code",
   "execution_count": 17,
   "id": "8c4cea39-5b7b-4f65-82d5-ea0015e86f02",
   "metadata": {},
   "outputs": [
    {
     "data": {
      "application/vnd.jupyter.widget-view+json": {
       "model_id": "bcbc7549ae834e6b9789feb48e2e94d4",
       "version_major": 2,
       "version_minor": 0
      },
      "text/plain": [
       "ntcir-transfer/2/train documents:   0%|          | 0/187080 [00:00<?, ?it/s]"
      ]
     },
     "metadata": {},
     "output_type": "display_data"
    },
    {
     "name": "stdout",
     "output_type": "stream",
     "text": [
      "CPU times: total: 10 s\n",
      "Wall time: 34.2 s\n"
     ]
    }
   ],
   "source": [
    "%%time\n",
    "indexref = indexer.index(dataset_pt.get_corpus_iter())"
   ]
  },
  {
   "cell_type": "code",
   "execution_count": 18,
   "id": "55b33e38-8c2d-4cbf-ba14-1d6483d222a5",
   "metadata": {},
   "outputs": [
    {
     "data": {
      "text/plain": [
       "['data.direct.bf',\n",
       " 'data.document.fsarrayfile',\n",
       " 'data.inverted.bf',\n",
       " 'data.lexicon.fsomapfile',\n",
       " 'data.lexicon.fsomaphash',\n",
       " 'data.lexicon.fsomapid',\n",
       " 'data.meta-0.fsomapfile',\n",
       " 'data.meta.idx',\n",
       " 'data.meta.zdata',\n",
       " 'data.properties']"
      ]
     },
     "execution_count": 18,
     "metadata": {},
     "output_type": "execute_result"
    }
   ],
   "source": [
    "os.listdir(INDEX)"
   ]
  },
  {
   "cell_type": "markdown",
   "id": "29cc13bf-ba26-4450-8105-739caced4991",
   "metadata": {},
   "source": [
    "### Retrieval"
   ]
  },
  {
   "cell_type": "code",
   "execution_count": 19,
   "id": "a4c404fb-f369-4118-ae91-08bdd8fd9650",
   "metadata": {},
   "outputs": [],
   "source": [
    "# Load existing index files\n",
    "indexref = pt.IndexFactory.of(INDEX)"
   ]
  },
  {
   "cell_type": "code",
   "execution_count": 20,
   "id": "0daa5477-b7be-42e5-bc8f-af29811a9d9b",
   "metadata": {},
   "outputs": [],
   "source": [
    "os.makedirs(RUN, exist_ok=True)"
   ]
  },
  {
   "cell_type": "code",
   "execution_count": 21,
   "id": "805a6cb8-2993-4ae8-b4e6-192710a115e2",
   "metadata": {},
   "outputs": [],
   "source": [
    "tfidf = pt.BatchRetrieve(indexref, wmodel=\"TF_IDF\")\n",
    "bm25 = pt.BatchRetrieve(indexref, wmodel=\"BM25\")\n",
    "bm25_rm3 = bm25 >> pt.rewrite.RM3(indexref) >> bm25"
   ]
  },
  {
   "cell_type": "code",
   "execution_count": 22,
   "id": "a8695de6-e2cf-4a8a-b05e-a3c4f09e097a",
   "metadata": {},
   "outputs": [
    {
     "name": "stdout",
     "output_type": "stream",
     "text": [
      "CPU times: total: 1.53 s\n",
      "Wall time: 5.94 s\n"
     ]
    },
    {
     "data": {
      "text/html": [
       "<div>\n",
       "<style scoped>\n",
       "    .dataframe tbody tr th:only-of-type {\n",
       "        vertical-align: middle;\n",
       "    }\n",
       "\n",
       "    .dataframe tbody tr th {\n",
       "        vertical-align: top;\n",
       "    }\n",
       "\n",
       "    .dataframe thead th {\n",
       "        text-align: right;\n",
       "    }\n",
       "</style>\n",
       "<table border=\"1\" class=\"dataframe\">\n",
       "  <thead>\n",
       "    <tr style=\"text-align: right;\">\n",
       "      <th></th>\n",
       "      <th>name</th>\n",
       "      <th>RR</th>\n",
       "      <th>nDCG@10</th>\n",
       "      <th>nDCG</th>\n",
       "    </tr>\n",
       "  </thead>\n",
       "  <tbody>\n",
       "    <tr>\n",
       "      <th>0</th>\n",
       "      <td>MyRun-TFIDF</td>\n",
       "      <td>0.575961</td>\n",
       "      <td>0.361124</td>\n",
       "      <td>0.469943</td>\n",
       "    </tr>\n",
       "    <tr>\n",
       "      <th>1</th>\n",
       "      <td>MyRun-BM25</td>\n",
       "      <td>0.574356</td>\n",
       "      <td>0.359483</td>\n",
       "      <td>0.470693</td>\n",
       "    </tr>\n",
       "    <tr>\n",
       "      <th>2</th>\n",
       "      <td>MyRun-BM25_RM3</td>\n",
       "      <td>0.555899</td>\n",
       "      <td>0.373065</td>\n",
       "      <td>0.492993</td>\n",
       "    </tr>\n",
       "  </tbody>\n",
       "</table>\n",
       "</div>"
      ],
      "text/plain": [
       "             name        RR   nDCG@10      nDCG\n",
       "0     MyRun-TFIDF  0.575961  0.361124  0.469943\n",
       "1      MyRun-BM25  0.574356  0.359483  0.470693\n",
       "2  MyRun-BM25_RM3  0.555899  0.373065  0.492993"
      ]
     },
     "execution_count": 22,
     "metadata": {},
     "output_type": "execute_result"
    }
   ],
   "source": [
    "%%time\n",
    "from pyterrier.measures import *\n",
    "pt.Experiment(\n",
    "    [tfidf, bm25, bm25_rm3],\n",
    "    queries_en_df,\n",
    "    dataset_pt.get_qrels(),\n",
    "    eval_metrics=[MRR, nDCG@10, nDCG],\n",
    "    names = [\"MyRun-TFIDF\", \"MyRun-BM25\", \"MyRun-BM25_RM3\"],\n",
    "    save_dir = RUN,\n",
    "    save_mode = \"overwrite\",\n",
    "    filter_by_qrels=True, # Not all topics are available in qrels\n",
    "    # perquery=True\n",
    ")"
   ]
  }
 ],
 "metadata": {
  "environment": {
   "kernel": "python3",
   "name": "common-cpu.m102",
   "type": "gcloud",
   "uri": "gcr.io/deeplearning-platform-release/base-cpu:m102"
  },
  "kernelspec": {
   "display_name": "Python 3",
   "language": "python",
   "name": "python3"
  },
  "language_info": {
   "codemirror_mode": {
    "name": "ipython",
    "version": 3
   },
   "file_extension": ".py",
   "mimetype": "text/x-python",
   "name": "python",
   "nbconvert_exporter": "python",
   "pygments_lexer": "ipython3",
   "version": "3.12.3"
  }
 },
 "nbformat": 4,
 "nbformat_minor": 5
}
