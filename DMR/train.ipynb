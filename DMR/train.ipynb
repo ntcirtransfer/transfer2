{
 "cells": [
  {
   "cell_type": "code",
   "execution_count": 10,
   "metadata": {},
   "outputs": [],
   "source": [
    "# Define libraries\n",
    "import numpy as np\n",
    "import pandas as pd\n",
    "import matplotlib.pyplot as plt\n",
    "import seaborn as sns \n",
    "import os, importlib, pickle, time\n",
    "import torch\n",
    "import torch.optim as optim\n",
    "from torchvision import transforms, io\n",
    "from torch.utils.data import DataLoader, Dataset\n",
    "from sklearn.metrics import pairwise_distances\n",
    "import dpr_models\n",
    "importlib.reload(dpr_models)\n",
    "\n",
    "# Define run name\n",
    "run_name = 'baseline'\n",
    "\n",
    "# Check if CUDA is available\n",
    "device = torch.device('cuda:0') if torch.cuda.is_available() else torch.device('cpu')\n",
    "print(f'Use {device}')\n",
    "# Check if MPS is available\n",
    "#device = torch.device('mps') if torch.backends.mps.is_available() else torch.device('cpu')\n",
    "\n",
    "# Define model configration\n",
    "configs = {'lifelog_dir':'./Lifelog-6/',\n",
    "           'embedding_dim':512,\n",
    "           'hidden_dim':512,\n",
    "           'batch_size':512,\n",
    "           'epochs':10,\n",
    "           'N_valid':200,\n",
    "           'sensor_feats':['heart_rate(bpm)','heart_rate_conf','calories','distance',\n",
    "                           'minutesAsleep','minutesAwake','minutesAfterWakeup','timeInBed','sleep_efficiency',\n",
    "                           'new_lat','new_lng','semantic_name','categories','movement','city'],\n",
    "           'normalization':True,\n",
    "           'model_path':f'./models/{run_name}.pth',\n",
    "           'configs_path':f'./models/{run_name}.pkl'}"
   ]
  },
  {
   "cell_type": "code",
   "execution_count": 4,
   "metadata": {},
   "outputs": [],
   "source": [
    "# Load sensor data\n",
    "lifelog_dir = configs['lifelog_dir']\n",
    "\n",
    "df_sen = pd.read_csv(f'{lifelog_dir}/lsc22_metadata.csv', low_memory=False)\n",
    "df_loc = pd.read_csv(f'{lifelog_dir}/vaisl_gps.csv', low_memory=False)\n",
    "df_loc = df_loc.drop_duplicates()\n",
    "df = pd.merge(df_loc, df_sen, how='left', on='minute_id', suffixes=('', '_y'))\n",
    "\n",
    "# Fix image path\n",
    "df['month'] = df['ImageID'].map(lambda x:x[0:6])\n",
    "df['day'] = df['ImageID'].map(lambda x:x[6:8])\n",
    "df['ImageID_full'] = lifelog_dir + '/images/' + df['month'] + '/' + df['day'] + '/' + df['ImageID']\n",
    "\n",
    "df = df[(df['month']=='202003')]\n",
    "\n",
    "# Check image file existence\n",
    "df['image_file_exist'] = df['ImageID_full'].map(lambda x: os.path.exists(x))\n",
    "df = df[df['image_file_exist']]\n",
    "\n",
    "# Sampling data\n",
    "df['local_time'] = pd.to_datetime(df['ImageID'], format='%Y%m%d_%H%M%S_000.jpg')\n",
    "df_sampled = df.set_index('local_time').groupby(pd.Grouper('local_time', freq='h')).apply(lambda x: x.sample(n=min(20,len(x)), random_state=0), include_groups=False).reset_index(drop=True)\n",
    "\n",
    "# Frequency encoding for categorical data\n",
    "for col in df[configs['sensor_feats']].select_dtypes(['object']):\n",
    "    df_sampled[col] = df_sampled[col].fillna('Unknown')\n",
    "    df_gp = df_sampled.groupby(col)[col].count().reset_index(name=f'{col}_freq')\n",
    "    df_gp[f'{col}_fe'] = df_gp[f'{col}_freq'] / df_gp[f'{col}_freq'].sum()\n",
    "    df_sampled = pd.merge(df_sampled, df_gp, how='left', on=col)\n",
    "    df_sampled[f'{col}_orig'] = df_sampled[col].copy()\n",
    "    df_sampled[col] = df_sampled[f'{col}_fe'].copy()\n",
    "    configs[col] = dict(zip(df_gp[col], df_gp[f'{col}_fe']))\n",
    "\n",
    "sensor_data = df_sampled[configs['sensor_feats']].fillna(0.).values\n",
    "sensor_data = torch.from_numpy(sensor_data.astype(np.float32)).clone()"
   ]
  },
  {
   "cell_type": "code",
   "execution_count": 5,
   "metadata": {},
   "outputs": [],
   "source": [
    "# Load image data\n",
    "images_list = []\n",
    "for image_path in df_sampled['ImageID_full'].tolist():\n",
    "    image = io.read_image(path=image_path)\n",
    "    image = transforms.functional.resize(img=image, size=(224,224)).to(torch.float32)\n",
    "    image = transforms.functional.normalize(image, mean=[0.485, 0.456, 0.406], std=[0.229, 0.224, 0.225])\n",
    "    images_list.append(image)\n",
    "image_data = torch.stack(images_list, dim=0)"
   ]
  },
  {
   "cell_type": "code",
   "execution_count": 6,
   "metadata": {},
   "outputs": [
    {
     "name": "stdout",
     "output_type": "stream",
     "text": [
      "Image data:  torch.Size([9005, 3, 224, 224])\n",
      "Snesor data: torch.Size([9005, 15])\n"
     ]
    }
   ],
   "source": [
    "# Check shape of data\n",
    "print('Image data: ', image_data.shape)\n",
    "print('Snesor data:', sensor_data.shape)"
   ]
  },
  {
   "cell_type": "code",
   "execution_count": 7,
   "metadata": {},
   "outputs": [],
   "source": [
    "# Create a dataset class for image and sensor\n",
    "class ImageSensorDataset(Dataset):\n",
    "    def __init__(self, image_data, sensor_data):\n",
    "        self.image_data = image_data\n",
    "        self.sensor_data = sensor_data\n",
    "\n",
    "    def __len__(self):\n",
    "        return len(self.sensor_data)\n",
    "\n",
    "    def __getitem__(self, idx):\n",
    "        images = self.image_data[idx]\n",
    "        sensors = self.sensor_data[idx]\n",
    "\n",
    "        return images, sensors\n",
    "\n",
    "N_valid = configs['N_valid']\n",
    "N_train = int(len(image_data)) - N_valid\n",
    "perms = np.random.permutation(len(image_data))\n",
    "train_idx = perms[:N_train]\n",
    "valid_idx = perms[N_train:]\n",
    "\n",
    "train_image_data = image_data[train_idx]\n",
    "valid_image_data = image_data[valid_idx]\n",
    "train_sensor_data = sensor_data[train_idx]\n",
    "valid_sensor_data = sensor_data[valid_idx]\n",
    "\n",
    "train_dataset = ImageSensorDataset(train_image_data, train_sensor_data)\n",
    "valid_dataset = ImageSensorDataset(valid_image_data, valid_sensor_data)\n",
    "train_data_loader = DataLoader(train_dataset, batch_size=configs['batch_size'], shuffle=True)\n",
    "valid_data_loader = DataLoader(valid_dataset, batch_size=configs['batch_size'])"
   ]
  },
  {
   "cell_type": "code",
   "execution_count": 11,
   "metadata": {},
   "outputs": [],
   "source": [
    "# Define DPR model\n",
    "configs['sensor_avg'] = torch.mean(sensor_data, 0)\n",
    "configs['sensor_std'] = torch.std(sensor_data, 0)\n",
    "sensor_avg = torch.mean(sensor_data, 0)\n",
    "sensor_std = torch.std(sensor_data, 0)\n",
    "image_encoder = dpr_models.ImageEncoder(output_dim=configs['embedding_dim']).to(device)\n",
    "sensor_encoder = dpr_models.SensorEncoder(avg=configs['sensor_avg'].to(device),\n",
    "                                          std=configs['sensor_std'].to(device),\n",
    "                                          input_dim=sensor_data.shape[1],\n",
    "                                          hidden_dim=configs['hidden_dim'],\n",
    "                                          output_dim=configs['embedding_dim'],\n",
    "                                          normalization=configs['normalization']).to(device)\n",
    "\n",
    "dpr_model = dpr_models.DPRModel(image_encoder, sensor_encoder).to(device)\n",
    "optimizer = optim.Adam(dpr_model.parameters(), lr=1e-4)\n",
    "\n",
    "criterion = dpr_models.SimilarityBasedCrossEntropy(temperature=0.5, device=device)"
   ]
  },
  {
   "cell_type": "code",
   "execution_count": 12,
   "metadata": {},
   "outputs": [],
   "source": [
    "# Define evaluation metric (Mean Reciprocal Rank)\n",
    "def calculate_mrr(image_embeddings, sensor_embeddings):\n",
    "    image_embeddings_np = torch.cat(image_embeddings).detach().cpu().numpy()\n",
    "    sensor_embeddings_np = torch.cat(sensor_embeddings).detach().cpu().numpy()\n",
    "    similarities = 1 - pairwise_distances(image_embeddings_np, sensor_embeddings_np, metric='cosine')\n",
    "\n",
    "    num_samples = similarities.shape[0]\n",
    "    ranks = np.zeros(num_samples)\n",
    "    \n",
    "    for i in range(num_samples):\n",
    "        # Rank the similarities\n",
    "        sorted_indices = np.argsort(-similarities[i])\n",
    "        rank = np.where(sorted_indices == i)[0][0] + 1  # +1 for 1-based rank\n",
    "        ranks[i] = rank\n",
    "    \n",
    "    mean_rank = np.mean(ranks)\n",
    "    mrr = np.mean(1 / ranks)\n",
    "    \n",
    "    return mean_rank, mrr"
   ]
  },
  {
   "cell_type": "code",
   "execution_count": 13,
   "metadata": {},
   "outputs": [
    {
     "name": "stdout",
     "output_type": "stream",
     "text": [
      "Epoch [1/10], Train Loss: 106.9346, Train Mean Rank: 2486.8/8805, Train MRR: 0.0050, Valid Loss: 4.8850, Valid Mean Rank: 45.9/200, Valid MRR: 0.1042, Time: 12.30\n",
      "Epoch [2/10], Train Loss: 101.3395, Train Mean Rank: 1670.7/8805, Train MRR: 0.0072, Valid Loss: 4.7176, Valid Mean Rank: 38.4/200, Valid MRR: 0.1329, Time: 11.92\n",
      "Epoch [3/10], Train Loss: 98.9277, Train Mean Rank: 1431.8/8805, Train MRR: 0.0083, Valid Loss: 4.6341, Valid Mean Rank: 34.1/200, Valid MRR: 0.1473, Time: 11.96\n",
      "Epoch [4/10], Train Loss: 97.5830, Train Mean Rank: 1300.9/8805, Train MRR: 0.0103, Valid Loss: 4.5774, Valid Mean Rank: 31.2/200, Valid MRR: 0.1792, Time: 11.96\n",
      "Epoch [5/10], Train Loss: 96.6534, Train Mean Rank: 1217.7/8805, Train MRR: 0.0106, Valid Loss: 4.5375, Valid Mean Rank: 29.5/200, Valid MRR: 0.1875, Time: 11.98\n",
      "Epoch [6/10], Train Loss: 96.0644, Train Mean Rank: 1147.4/8805, Train MRR: 0.0113, Valid Loss: 4.5068, Valid Mean Rank: 28.2/200, Valid MRR: 0.1977, Time: 11.97\n",
      "Epoch [7/10], Train Loss: 95.5446, Train Mean Rank: 1091.8/8805, Train MRR: 0.0119, Valid Loss: 4.4854, Valid Mean Rank: 27.1/200, Valid MRR: 0.2240, Time: 11.99\n",
      "Epoch [8/10], Train Loss: 95.0580, Train Mean Rank: 1043.0/8805, Train MRR: 0.0126, Valid Loss: 4.4615, Valid Mean Rank: 26.2/200, Valid MRR: 0.2160, Time: 12.02\n",
      "Epoch [9/10], Train Loss: 94.7553, Train Mean Rank: 998.4/8805, Train MRR: 0.0132, Valid Loss: 4.4412, Valid Mean Rank: 25.2/200, Valid MRR: 0.2048, Time: 12.00\n",
      "Epoch [10/10], Train Loss: 94.4099, Train Mean Rank: 955.1/8805, Train MRR: 0.0151, Valid Loss: 4.4264, Valid Mean Rank: 24.6/200, Valid MRR: 0.2078, Time: 12.00\n",
      "Training complete.\n"
     ]
    },
    {
     "ename": "OSError",
     "evalue": "Cannot save file into a non-existent directory: '../logs'",
     "output_type": "error",
     "traceback": [
      "\u001b[0;31m---------------------------------------------------------------------------\u001b[0m",
      "\u001b[0;31mOSError\u001b[0m                                   Traceback (most recent call last)",
      "Cell \u001b[0;32mIn[13], line 56\u001b[0m\n\u001b[1;32m     53\u001b[0m     \u001b[38;5;28mprint\u001b[39m(result)\n\u001b[1;32m     55\u001b[0m \u001b[38;5;28mprint\u001b[39m(\u001b[38;5;124m\"\u001b[39m\u001b[38;5;124mTraining complete.\u001b[39m\u001b[38;5;124m\"\u001b[39m)\n\u001b[0;32m---> 56\u001b[0m \u001b[43mdf_train\u001b[49m\u001b[38;5;241;43m.\u001b[39;49m\u001b[43mto_csv\u001b[49m\u001b[43m(\u001b[49m\u001b[38;5;124;43mf\u001b[39;49m\u001b[38;5;124;43m'\u001b[39;49m\u001b[38;5;124;43m../logs/train_log_\u001b[39;49m\u001b[38;5;132;43;01m{\u001b[39;49;00m\u001b[43mrun_name\u001b[49m\u001b[38;5;132;43;01m}\u001b[39;49;00m\u001b[38;5;124;43m.csv\u001b[39;49m\u001b[38;5;124;43m'\u001b[39;49m\u001b[43m,\u001b[49m\u001b[43m \u001b[49m\u001b[43mindex\u001b[49m\u001b[38;5;241;43m=\u001b[39;49m\u001b[38;5;28;43;01mFalse\u001b[39;49;00m\u001b[43m)\u001b[49m\n\u001b[1;32m     58\u001b[0m \u001b[38;5;66;03m# Save model\u001b[39;00m\n\u001b[1;32m     59\u001b[0m torch\u001b[38;5;241m.\u001b[39msave(dpr_model\u001b[38;5;241m.\u001b[39mstate_dict(), configs[\u001b[38;5;124m'\u001b[39m\u001b[38;5;124mmodel_path\u001b[39m\u001b[38;5;124m'\u001b[39m])\n",
      "File \u001b[0;32m~/miniconda3/lib/python3.12/site-packages/pandas/util/_decorators.py:333\u001b[0m, in \u001b[0;36mdeprecate_nonkeyword_arguments.<locals>.decorate.<locals>.wrapper\u001b[0;34m(*args, **kwargs)\u001b[0m\n\u001b[1;32m    327\u001b[0m \u001b[38;5;28;01mif\u001b[39;00m \u001b[38;5;28mlen\u001b[39m(args) \u001b[38;5;241m>\u001b[39m num_allow_args:\n\u001b[1;32m    328\u001b[0m     warnings\u001b[38;5;241m.\u001b[39mwarn(\n\u001b[1;32m    329\u001b[0m         msg\u001b[38;5;241m.\u001b[39mformat(arguments\u001b[38;5;241m=\u001b[39m_format_argument_list(allow_args)),\n\u001b[1;32m    330\u001b[0m         \u001b[38;5;167;01mFutureWarning\u001b[39;00m,\n\u001b[1;32m    331\u001b[0m         stacklevel\u001b[38;5;241m=\u001b[39mfind_stack_level(),\n\u001b[1;32m    332\u001b[0m     )\n\u001b[0;32m--> 333\u001b[0m \u001b[38;5;28;01mreturn\u001b[39;00m \u001b[43mfunc\u001b[49m\u001b[43m(\u001b[49m\u001b[38;5;241;43m*\u001b[39;49m\u001b[43margs\u001b[49m\u001b[43m,\u001b[49m\u001b[43m \u001b[49m\u001b[38;5;241;43m*\u001b[39;49m\u001b[38;5;241;43m*\u001b[39;49m\u001b[43mkwargs\u001b[49m\u001b[43m)\u001b[49m\n",
      "File \u001b[0;32m~/miniconda3/lib/python3.12/site-packages/pandas/core/generic.py:3967\u001b[0m, in \u001b[0;36mNDFrame.to_csv\u001b[0;34m(self, path_or_buf, sep, na_rep, float_format, columns, header, index, index_label, mode, encoding, compression, quoting, quotechar, lineterminator, chunksize, date_format, doublequote, escapechar, decimal, errors, storage_options)\u001b[0m\n\u001b[1;32m   3956\u001b[0m df \u001b[38;5;241m=\u001b[39m \u001b[38;5;28mself\u001b[39m \u001b[38;5;28;01mif\u001b[39;00m \u001b[38;5;28misinstance\u001b[39m(\u001b[38;5;28mself\u001b[39m, ABCDataFrame) \u001b[38;5;28;01melse\u001b[39;00m \u001b[38;5;28mself\u001b[39m\u001b[38;5;241m.\u001b[39mto_frame()\n\u001b[1;32m   3958\u001b[0m formatter \u001b[38;5;241m=\u001b[39m DataFrameFormatter(\n\u001b[1;32m   3959\u001b[0m     frame\u001b[38;5;241m=\u001b[39mdf,\n\u001b[1;32m   3960\u001b[0m     header\u001b[38;5;241m=\u001b[39mheader,\n\u001b[0;32m   (...)\u001b[0m\n\u001b[1;32m   3964\u001b[0m     decimal\u001b[38;5;241m=\u001b[39mdecimal,\n\u001b[1;32m   3965\u001b[0m )\n\u001b[0;32m-> 3967\u001b[0m \u001b[38;5;28;01mreturn\u001b[39;00m \u001b[43mDataFrameRenderer\u001b[49m\u001b[43m(\u001b[49m\u001b[43mformatter\u001b[49m\u001b[43m)\u001b[49m\u001b[38;5;241;43m.\u001b[39;49m\u001b[43mto_csv\u001b[49m\u001b[43m(\u001b[49m\n\u001b[1;32m   3968\u001b[0m \u001b[43m    \u001b[49m\u001b[43mpath_or_buf\u001b[49m\u001b[43m,\u001b[49m\n\u001b[1;32m   3969\u001b[0m \u001b[43m    \u001b[49m\u001b[43mlineterminator\u001b[49m\u001b[38;5;241;43m=\u001b[39;49m\u001b[43mlineterminator\u001b[49m\u001b[43m,\u001b[49m\n\u001b[1;32m   3970\u001b[0m \u001b[43m    \u001b[49m\u001b[43msep\u001b[49m\u001b[38;5;241;43m=\u001b[39;49m\u001b[43msep\u001b[49m\u001b[43m,\u001b[49m\n\u001b[1;32m   3971\u001b[0m \u001b[43m    \u001b[49m\u001b[43mencoding\u001b[49m\u001b[38;5;241;43m=\u001b[39;49m\u001b[43mencoding\u001b[49m\u001b[43m,\u001b[49m\n\u001b[1;32m   3972\u001b[0m \u001b[43m    \u001b[49m\u001b[43merrors\u001b[49m\u001b[38;5;241;43m=\u001b[39;49m\u001b[43merrors\u001b[49m\u001b[43m,\u001b[49m\n\u001b[1;32m   3973\u001b[0m \u001b[43m    \u001b[49m\u001b[43mcompression\u001b[49m\u001b[38;5;241;43m=\u001b[39;49m\u001b[43mcompression\u001b[49m\u001b[43m,\u001b[49m\n\u001b[1;32m   3974\u001b[0m \u001b[43m    \u001b[49m\u001b[43mquoting\u001b[49m\u001b[38;5;241;43m=\u001b[39;49m\u001b[43mquoting\u001b[49m\u001b[43m,\u001b[49m\n\u001b[1;32m   3975\u001b[0m \u001b[43m    \u001b[49m\u001b[43mcolumns\u001b[49m\u001b[38;5;241;43m=\u001b[39;49m\u001b[43mcolumns\u001b[49m\u001b[43m,\u001b[49m\n\u001b[1;32m   3976\u001b[0m \u001b[43m    \u001b[49m\u001b[43mindex_label\u001b[49m\u001b[38;5;241;43m=\u001b[39;49m\u001b[43mindex_label\u001b[49m\u001b[43m,\u001b[49m\n\u001b[1;32m   3977\u001b[0m \u001b[43m    \u001b[49m\u001b[43mmode\u001b[49m\u001b[38;5;241;43m=\u001b[39;49m\u001b[43mmode\u001b[49m\u001b[43m,\u001b[49m\n\u001b[1;32m   3978\u001b[0m \u001b[43m    \u001b[49m\u001b[43mchunksize\u001b[49m\u001b[38;5;241;43m=\u001b[39;49m\u001b[43mchunksize\u001b[49m\u001b[43m,\u001b[49m\n\u001b[1;32m   3979\u001b[0m \u001b[43m    \u001b[49m\u001b[43mquotechar\u001b[49m\u001b[38;5;241;43m=\u001b[39;49m\u001b[43mquotechar\u001b[49m\u001b[43m,\u001b[49m\n\u001b[1;32m   3980\u001b[0m \u001b[43m    \u001b[49m\u001b[43mdate_format\u001b[49m\u001b[38;5;241;43m=\u001b[39;49m\u001b[43mdate_format\u001b[49m\u001b[43m,\u001b[49m\n\u001b[1;32m   3981\u001b[0m \u001b[43m    \u001b[49m\u001b[43mdoublequote\u001b[49m\u001b[38;5;241;43m=\u001b[39;49m\u001b[43mdoublequote\u001b[49m\u001b[43m,\u001b[49m\n\u001b[1;32m   3982\u001b[0m \u001b[43m    \u001b[49m\u001b[43mescapechar\u001b[49m\u001b[38;5;241;43m=\u001b[39;49m\u001b[43mescapechar\u001b[49m\u001b[43m,\u001b[49m\n\u001b[1;32m   3983\u001b[0m \u001b[43m    \u001b[49m\u001b[43mstorage_options\u001b[49m\u001b[38;5;241;43m=\u001b[39;49m\u001b[43mstorage_options\u001b[49m\u001b[43m,\u001b[49m\n\u001b[1;32m   3984\u001b[0m \u001b[43m\u001b[49m\u001b[43m)\u001b[49m\n",
      "File \u001b[0;32m~/miniconda3/lib/python3.12/site-packages/pandas/io/formats/format.py:1014\u001b[0m, in \u001b[0;36mDataFrameRenderer.to_csv\u001b[0;34m(self, path_or_buf, encoding, sep, columns, index_label, mode, compression, quoting, quotechar, lineterminator, chunksize, date_format, doublequote, escapechar, errors, storage_options)\u001b[0m\n\u001b[1;32m    993\u001b[0m     created_buffer \u001b[38;5;241m=\u001b[39m \u001b[38;5;28;01mFalse\u001b[39;00m\n\u001b[1;32m    995\u001b[0m csv_formatter \u001b[38;5;241m=\u001b[39m CSVFormatter(\n\u001b[1;32m    996\u001b[0m     path_or_buf\u001b[38;5;241m=\u001b[39mpath_or_buf,\n\u001b[1;32m    997\u001b[0m     lineterminator\u001b[38;5;241m=\u001b[39mlineterminator,\n\u001b[0;32m   (...)\u001b[0m\n\u001b[1;32m   1012\u001b[0m     formatter\u001b[38;5;241m=\u001b[39m\u001b[38;5;28mself\u001b[39m\u001b[38;5;241m.\u001b[39mfmt,\n\u001b[1;32m   1013\u001b[0m )\n\u001b[0;32m-> 1014\u001b[0m \u001b[43mcsv_formatter\u001b[49m\u001b[38;5;241;43m.\u001b[39;49m\u001b[43msave\u001b[49m\u001b[43m(\u001b[49m\u001b[43m)\u001b[49m\n\u001b[1;32m   1016\u001b[0m \u001b[38;5;28;01mif\u001b[39;00m created_buffer:\n\u001b[1;32m   1017\u001b[0m     \u001b[38;5;28;01massert\u001b[39;00m \u001b[38;5;28misinstance\u001b[39m(path_or_buf, StringIO)\n",
      "File \u001b[0;32m~/miniconda3/lib/python3.12/site-packages/pandas/io/formats/csvs.py:251\u001b[0m, in \u001b[0;36mCSVFormatter.save\u001b[0;34m(self)\u001b[0m\n\u001b[1;32m    247\u001b[0m \u001b[38;5;250m\u001b[39m\u001b[38;5;124;03m\"\"\"\u001b[39;00m\n\u001b[1;32m    248\u001b[0m \u001b[38;5;124;03mCreate the writer & save.\u001b[39;00m\n\u001b[1;32m    249\u001b[0m \u001b[38;5;124;03m\"\"\"\u001b[39;00m\n\u001b[1;32m    250\u001b[0m \u001b[38;5;66;03m# apply compression and byte/text conversion\u001b[39;00m\n\u001b[0;32m--> 251\u001b[0m \u001b[38;5;28;01mwith\u001b[39;00m \u001b[43mget_handle\u001b[49m\u001b[43m(\u001b[49m\n\u001b[1;32m    252\u001b[0m \u001b[43m    \u001b[49m\u001b[38;5;28;43mself\u001b[39;49m\u001b[38;5;241;43m.\u001b[39;49m\u001b[43mfilepath_or_buffer\u001b[49m\u001b[43m,\u001b[49m\n\u001b[1;32m    253\u001b[0m \u001b[43m    \u001b[49m\u001b[38;5;28;43mself\u001b[39;49m\u001b[38;5;241;43m.\u001b[39;49m\u001b[43mmode\u001b[49m\u001b[43m,\u001b[49m\n\u001b[1;32m    254\u001b[0m \u001b[43m    \u001b[49m\u001b[43mencoding\u001b[49m\u001b[38;5;241;43m=\u001b[39;49m\u001b[38;5;28;43mself\u001b[39;49m\u001b[38;5;241;43m.\u001b[39;49m\u001b[43mencoding\u001b[49m\u001b[43m,\u001b[49m\n\u001b[1;32m    255\u001b[0m \u001b[43m    \u001b[49m\u001b[43merrors\u001b[49m\u001b[38;5;241;43m=\u001b[39;49m\u001b[38;5;28;43mself\u001b[39;49m\u001b[38;5;241;43m.\u001b[39;49m\u001b[43merrors\u001b[49m\u001b[43m,\u001b[49m\n\u001b[1;32m    256\u001b[0m \u001b[43m    \u001b[49m\u001b[43mcompression\u001b[49m\u001b[38;5;241;43m=\u001b[39;49m\u001b[38;5;28;43mself\u001b[39;49m\u001b[38;5;241;43m.\u001b[39;49m\u001b[43mcompression\u001b[49m\u001b[43m,\u001b[49m\n\u001b[1;32m    257\u001b[0m \u001b[43m    \u001b[49m\u001b[43mstorage_options\u001b[49m\u001b[38;5;241;43m=\u001b[39;49m\u001b[38;5;28;43mself\u001b[39;49m\u001b[38;5;241;43m.\u001b[39;49m\u001b[43mstorage_options\u001b[49m\u001b[43m,\u001b[49m\n\u001b[1;32m    258\u001b[0m \u001b[43m\u001b[49m\u001b[43m)\u001b[49m \u001b[38;5;28;01mas\u001b[39;00m handles:\n\u001b[1;32m    259\u001b[0m     \u001b[38;5;66;03m# Note: self.encoding is irrelevant here\u001b[39;00m\n\u001b[1;32m    260\u001b[0m     \u001b[38;5;28mself\u001b[39m\u001b[38;5;241m.\u001b[39mwriter \u001b[38;5;241m=\u001b[39m csvlib\u001b[38;5;241m.\u001b[39mwriter(\n\u001b[1;32m    261\u001b[0m         handles\u001b[38;5;241m.\u001b[39mhandle,\n\u001b[1;32m    262\u001b[0m         lineterminator\u001b[38;5;241m=\u001b[39m\u001b[38;5;28mself\u001b[39m\u001b[38;5;241m.\u001b[39mlineterminator,\n\u001b[0;32m   (...)\u001b[0m\n\u001b[1;32m    267\u001b[0m         quotechar\u001b[38;5;241m=\u001b[39m\u001b[38;5;28mself\u001b[39m\u001b[38;5;241m.\u001b[39mquotechar,\n\u001b[1;32m    268\u001b[0m     )\n\u001b[1;32m    270\u001b[0m     \u001b[38;5;28mself\u001b[39m\u001b[38;5;241m.\u001b[39m_save()\n",
      "File \u001b[0;32m~/miniconda3/lib/python3.12/site-packages/pandas/io/common.py:749\u001b[0m, in \u001b[0;36mget_handle\u001b[0;34m(path_or_buf, mode, encoding, compression, memory_map, is_text, errors, storage_options)\u001b[0m\n\u001b[1;32m    747\u001b[0m \u001b[38;5;66;03m# Only for write methods\u001b[39;00m\n\u001b[1;32m    748\u001b[0m \u001b[38;5;28;01mif\u001b[39;00m \u001b[38;5;124m\"\u001b[39m\u001b[38;5;124mr\u001b[39m\u001b[38;5;124m\"\u001b[39m \u001b[38;5;129;01mnot\u001b[39;00m \u001b[38;5;129;01min\u001b[39;00m mode \u001b[38;5;129;01mand\u001b[39;00m is_path:\n\u001b[0;32m--> 749\u001b[0m     \u001b[43mcheck_parent_directory\u001b[49m\u001b[43m(\u001b[49m\u001b[38;5;28;43mstr\u001b[39;49m\u001b[43m(\u001b[49m\u001b[43mhandle\u001b[49m\u001b[43m)\u001b[49m\u001b[43m)\u001b[49m\n\u001b[1;32m    751\u001b[0m \u001b[38;5;28;01mif\u001b[39;00m compression:\n\u001b[1;32m    752\u001b[0m     \u001b[38;5;28;01mif\u001b[39;00m compression \u001b[38;5;241m!=\u001b[39m \u001b[38;5;124m\"\u001b[39m\u001b[38;5;124mzstd\u001b[39m\u001b[38;5;124m\"\u001b[39m:\n\u001b[1;32m    753\u001b[0m         \u001b[38;5;66;03m# compression libraries do not like an explicit text-mode\u001b[39;00m\n",
      "File \u001b[0;32m~/miniconda3/lib/python3.12/site-packages/pandas/io/common.py:616\u001b[0m, in \u001b[0;36mcheck_parent_directory\u001b[0;34m(path)\u001b[0m\n\u001b[1;32m    614\u001b[0m parent \u001b[38;5;241m=\u001b[39m Path(path)\u001b[38;5;241m.\u001b[39mparent\n\u001b[1;32m    615\u001b[0m \u001b[38;5;28;01mif\u001b[39;00m \u001b[38;5;129;01mnot\u001b[39;00m parent\u001b[38;5;241m.\u001b[39mis_dir():\n\u001b[0;32m--> 616\u001b[0m     \u001b[38;5;28;01mraise\u001b[39;00m \u001b[38;5;167;01mOSError\u001b[39;00m(\u001b[38;5;124mrf\u001b[39m\u001b[38;5;124m\"\u001b[39m\u001b[38;5;124mCannot save file into a non-existent directory: \u001b[39m\u001b[38;5;124m'\u001b[39m\u001b[38;5;132;01m{\u001b[39;00mparent\u001b[38;5;132;01m}\u001b[39;00m\u001b[38;5;124m'\u001b[39m\u001b[38;5;124m\"\u001b[39m)\n",
      "\u001b[0;31mOSError\u001b[0m: Cannot save file into a non-existent directory: '../logs'"
     ]
    }
   ],
   "source": [
    "# Start training\n",
    "df_train = pd.DataFrame()\n",
    "for epoch in range(configs['epochs']):\n",
    "    start = time.time()\n",
    "    dpr_model.train()\n",
    "    train_loss, valid_loss = 0., 0.\n",
    "    train_image_embeddings, train_sensor_embeddings = [], []\n",
    "    valid_image_embeddings, valid_sensor_embeddings = [], []\n",
    "    for images, sensors in train_data_loader:\n",
    "        # Forward pass\n",
    "        image_emb, sensor_emb = dpr_model(images.to(device), sensors.to(device))\n",
    "\n",
    "        # Calculate loss\n",
    "        loss = criterion(image_emb, sensor_emb)\n",
    "        \n",
    "        # Backward pass and optimization\n",
    "        optimizer.zero_grad()\n",
    "        loss.backward()\n",
    "        optimizer.step()\n",
    "\n",
    "        train_loss += loss.item()\n",
    "\n",
    "        train_image_embeddings.append(image_emb)\n",
    "        train_sensor_embeddings.append(sensor_emb)\n",
    "\n",
    "    dpr_model.eval()\n",
    "    for images, sensors in valid_data_loader:\n",
    "        # Forward pass\n",
    "        image_emb, sensor_emb = dpr_model(images.to(device), sensors.to(device))\n",
    "        loss = criterion(image_emb, sensor_emb)\n",
    "        valid_loss += loss.item()\n",
    "\n",
    "        valid_image_embeddings.append(image_emb)\n",
    "        valid_sensor_embeddings.append(sensor_emb)\n",
    "\n",
    "    end = time.time()\n",
    "    time_diff = end - start\n",
    "\n",
    "    # Calculate evaluation metrics (Mean Reciprocal Rank)\n",
    "    train_mean_rank, train_mrr = calculate_mrr(train_image_embeddings, train_sensor_embeddings)\n",
    "    valid_mean_rank, valid_mrr = calculate_mrr(valid_image_embeddings, valid_sensor_embeddings)\n",
    "\n",
    "    result = f'Epoch [{epoch+1}/{configs[\"epochs\"]}]'\n",
    "    result += f', Train Loss: {train_loss:.4f}, Train Mean Rank: {train_mean_rank:.1f}/{len(train_image_data)}, Train MRR: {train_mrr:.4f}'\n",
    "    result += f', Valid Loss: {valid_loss:.4f}, Valid Mean Rank: {valid_mean_rank:.1f}/{len(valid_image_data)}, Valid MRR: {valid_mrr:.4f}'\n",
    "    result += f', Time: {time_diff:.2f}'\n",
    "\n",
    "    res = {'epoch':[epoch+1], 'N_train':N_train, 'N_valid':N_valid,\n",
    "           'train_loss':train_loss, 'train_mean_rank':train_mean_rank, 'train_mrr':train_mrr,\n",
    "           'valid_loss':valid_loss, 'valid_mean_rank':valid_mean_rank, 'valid_mrr':valid_mrr}\n",
    "    \n",
    "    df_train = pd.concat([df_train, pd.DataFrame(res)])\n",
    "    print(result)\n",
    "\n",
    "print(\"Training complete.\")\n",
    "df_train.to_csv(f'./logs/train_log_{run_name}.csv', index=False)\n",
    "\n",
    "# Save model\n",
    "torch.save(dpr_model.state_dict(), configs['model_path'])\n",
    "\n",
    "# Save configs\n",
    "with open(configs['configs_path'], mode='wb') as f:\n",
    "    pickle.dump(configs, f)"
   ]
  },
  {
   "cell_type": "code",
   "execution_count": 33,
   "metadata": {},
   "outputs": [
    {
     "data": {
      "image/png": "[encoded data removed]",
      "text/plain": [
       "<Figure size 500x400 with 1 Axes>"
      ]
     },
     "metadata": {},
     "output_type": "display_data"
    }
   ],
   "source": [
    "# Plot MRR in each epoch\n",
    "fig, ax = plt.subplots(figsize=(5, 4))\n",
    "sns.lineplot(data=df_train, x='epoch', y='train_mrr', label='Training')\n",
    "sns.lineplot(data=df_train, x='epoch', y='valid_mrr', label='Validation')\n",
    "ax.set_ylabel('Mean reciprocal rank')\n",
    "plt.grid(axis='y')\n",
    "plt.savefig(f'../logs/mrr_{run_name}.pdf', transparent=True, bbox_inches='tight')"
   ]
  },
  {
   "cell_type": "code",
   "execution_count": 34,
   "metadata": {},
   "outputs": [
    {
     "name": "stderr",
     "output_type": "stream",
     "text": [
      "/home/yamamoto/miniconda3/lib/python3.12/site-packages/torch/storage.py:414: FutureWarning: You are using `torch.load` with `weights_only=False` (the current default value), which uses the default pickle module implicitly. It is possible to construct malicious pickle data which will execute arbitrary code during unpickling (See https://github.com/pytorch/pytorch/blob/main/SECURITY.md#untrusted-models for more details). In a future release, the default value for `weights_only` will be flipped to `True`. This limits the functions that could be executed during unpickling. Arbitrary objects will no longer be allowed to be loaded via this mode unless they are explicitly allowlisted by the user via `torch.serialization.add_safe_globals`. We recommend you start setting `weights_only=True` for any use case where you don't have full control of the loaded file. Please open an issue on GitHub for any issues related to this experimental feature.\n",
      "  return torch.load(io.BytesIO(b))\n"
     ]
    }
   ],
   "source": [
    "# Test saved model and configs\n",
    "with open(configs['configs_path'], mode='rb') as f:\n",
    "    configs_test = pickle.load(f)\n",
    "\n",
    "image_encoder_test = dpr_models.ImageEncoder(output_dim=configs_test['embedding_dim']).to(device)\n",
    "sensor_encoder_test = dpr_models.SensorEncoder(avg=configs_test['sensor_avg'].to(device),\n",
    "                                               std=configs_test['sensor_std'].to(device),\n",
    "                                               input_dim=len(configs_test['sensor_feats']),\n",
    "                                               hidden_dim=configs_test['hidden_dim'],\n",
    "                                               output_dim=configs_test['embedding_dim']).to(device)\n",
    "dpr_model_test = dpr_models.DPRModel(image_encoder_test, sensor_encoder_test).to(device)\n",
    "\n",
    "dpr_model_test.load_state_dict(torch.load(configs_test['model_path'], weights_only=True))\n",
    "\n",
    "dpr_model_test.eval()\n",
    "image_emb, sensor_emb = dpr_model_test(images.to(device), sensors.to(device))"
   ]
  },
  {
   "cell_type": "markdown",
   "metadata": {},
   "source": [
    "If you want to run the model training in the background, convert the jupyter notebook to a Python file using the following command.\n",
    "```\n",
    "jupyter nbconvert --to python train.ipynb \n",
    "```"
   ]
  }
 ],
 "metadata": {
  "kernelspec": {
   "display_name": "base",
   "language": "python",
   "name": "python3"
  },
  "language_info": {
   "codemirror_mode": {
    "name": "ipython",
    "version": 3
   },
   "file_extension": ".py",
   "mimetype": "text/x-python",
   "name": "python",
   "nbconvert_exporter": "python",
   "pygments_lexer": "ipython3",
   "version": "3.12.2"
  }
 },
 "nbformat": 4,
 "nbformat_minor": 2
}
