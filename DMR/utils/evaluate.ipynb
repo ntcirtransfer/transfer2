{
 "cells": [
  {
   "cell_type": "code",
   "execution_count": 10,
   "metadata": {},
   "outputs": [
    {
     "name": "stdout",
     "output_type": "stream",
     "text": [
      "GROUP ID: ORG RUN ID: baseline MRR: 0.08803908250297912\n"
     ]
    }
   ],
   "source": [
    "import pandas as pd\n",
    "\n",
    "df_qrels = pd.read_csv('../input/qrels_test.csv')\n",
    "df_qrels = df_qrels.drop_duplicates(keep='last')\n",
    "df_results = pd.read_csv('../output/baseline_scores.csv')\n",
    "\n",
    "group_id = df_results['group_id'].values[0]\n",
    "run_id = df_results['run_id'].values[0]\n",
    "\n",
    "df_results['rank'] = df_results.groupby('topic_id')['score'].rank(method='average', ascending=False)\n",
    "df = pd.merge(df_qrels, df_results, how='inner', on=['topic_id','dmr_minute_id'], suffixes=['','y'])\n",
    "df['rr'] = df['rel'] / df['rank']\n",
    "df_mrr = df[df['rel']==1]\n",
    "mrr = df_mrr['rr'].mean()\n",
    "print(f'GROUP ID: {group_id} RUN ID: {run_id} MRR: {mrr}')"
   ]
  }
 ],
 "metadata": {
  "kernelspec": {
   "display_name": "base",
   "language": "python",
   "name": "python3"
  },
  "language_info": {
   "codemirror_mode": {
    "name": "ipython",
    "version": 3
   },
   "file_extension": ".py",
   "mimetype": "text/x-python",
   "name": "python",
   "nbconvert_exporter": "python",
   "pygments_lexer": "ipython3",
   "version": "3.12.2"
  }
 },
 "nbformat": 4,
 "nbformat_minor": 2
}
